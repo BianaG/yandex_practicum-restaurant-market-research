{
 "cells": [
  {
   "cell_type": "markdown",
   "id": "6df4dd71",
   "metadata": {},
   "source": [
    "# Restaurant Market Research Project"
   ]
  },
  {
   "cell_type": "markdown",
   "id": "50f77a10",
   "metadata": {},
   "source": [
    "### Introduction"
   ]
  },
  {
   "cell_type": "markdown",
   "id": "709092f7",
   "metadata": {},
   "source": [
    "In this project, we will process data of restaurants some market analysis. The goal is to find out whether an innovative restaurant with small robot waiters can maintain its success after its novelty wears off, or is it just a gimmick that will end."
   ]
  },
  {
   "cell_type": "markdown",
   "id": "a30e1493",
   "metadata": {},
   "source": [
    "### Step 1. Download the data and prepare it for analysis"
   ]
  },
  {
   "cell_type": "code",
   "execution_count": 1,
   "id": "bbf91f71",
   "metadata": {},
   "outputs": [],
   "source": [
    "import pandas as pd\n",
    "import sidetable as stb\n",
    "import matplotlib.pyplot as plt\n",
    "import seaborn as sns\n",
    "import numpy as np\n",
    "import usaddress"
   ]
  },
  {
   "cell_type": "code",
   "execution_count": 2,
   "id": "4adbef0b",
   "metadata": {},
   "outputs": [],
   "source": [
    "try:\n",
    "    rest = pd.read_csv('rest_data_us.csv')\n",
    "except:\n",
    "    rest = pd.read_csv('/datasets/rest_data_us.csv')"
   ]
  },
  {
   "cell_type": "markdown",
   "id": "8322cd4d",
   "metadata": {},
   "source": [
    "Let's check the data."
   ]
  },
  {
   "cell_type": "code",
   "execution_count": 3,
   "id": "c5e0011a",
   "metadata": {},
   "outputs": [
    {
     "data": {
      "text/html": [
       "<div>\n",
       "<style scoped>\n",
       "    .dataframe tbody tr th:only-of-type {\n",
       "        vertical-align: middle;\n",
       "    }\n",
       "\n",
       "    .dataframe tbody tr th {\n",
       "        vertical-align: top;\n",
       "    }\n",
       "\n",
       "    .dataframe thead th {\n",
       "        text-align: right;\n",
       "    }\n",
       "</style>\n",
       "<table border=\"1\" class=\"dataframe\">\n",
       "  <thead>\n",
       "    <tr style=\"text-align: right;\">\n",
       "      <th></th>\n",
       "      <th>id</th>\n",
       "      <th>object_name</th>\n",
       "      <th>address</th>\n",
       "      <th>chain</th>\n",
       "      <th>object_type</th>\n",
       "      <th>number</th>\n",
       "    </tr>\n",
       "  </thead>\n",
       "  <tbody>\n",
       "    <tr>\n",
       "      <th>0</th>\n",
       "      <td>11786</td>\n",
       "      <td>HABITAT COFFEE SHOP</td>\n",
       "      <td>3708 N EAGLE ROCK BLVD</td>\n",
       "      <td>False</td>\n",
       "      <td>Cafe</td>\n",
       "      <td>26</td>\n",
       "    </tr>\n",
       "    <tr>\n",
       "      <th>1</th>\n",
       "      <td>11787</td>\n",
       "      <td>REILLY'S</td>\n",
       "      <td>100 WORLD WAY # 120</td>\n",
       "      <td>False</td>\n",
       "      <td>Restaurant</td>\n",
       "      <td>9</td>\n",
       "    </tr>\n",
       "    <tr>\n",
       "      <th>2</th>\n",
       "      <td>11788</td>\n",
       "      <td>STREET CHURROS</td>\n",
       "      <td>6801 HOLLYWOOD BLVD # 253</td>\n",
       "      <td>False</td>\n",
       "      <td>Fast Food</td>\n",
       "      <td>20</td>\n",
       "    </tr>\n",
       "    <tr>\n",
       "      <th>3</th>\n",
       "      <td>11789</td>\n",
       "      <td>TRINITI ECHO PARK</td>\n",
       "      <td>1814 W SUNSET BLVD</td>\n",
       "      <td>False</td>\n",
       "      <td>Restaurant</td>\n",
       "      <td>22</td>\n",
       "    </tr>\n",
       "    <tr>\n",
       "      <th>4</th>\n",
       "      <td>11790</td>\n",
       "      <td>POLLEN</td>\n",
       "      <td>2100 ECHO PARK AVE</td>\n",
       "      <td>False</td>\n",
       "      <td>Restaurant</td>\n",
       "      <td>20</td>\n",
       "    </tr>\n",
       "    <tr>\n",
       "      <th>5</th>\n",
       "      <td>11791</td>\n",
       "      <td>THE SPOT GRILL</td>\n",
       "      <td>10004 NATIONAL BLVD</td>\n",
       "      <td>False</td>\n",
       "      <td>Restaurant</td>\n",
       "      <td>14</td>\n",
       "    </tr>\n",
       "    <tr>\n",
       "      <th>6</th>\n",
       "      <td>11792</td>\n",
       "      <td>CPK</td>\n",
       "      <td>100 WORLD WAY # 126</td>\n",
       "      <td>False</td>\n",
       "      <td>Restaurant</td>\n",
       "      <td>100</td>\n",
       "    </tr>\n",
       "    <tr>\n",
       "      <th>7</th>\n",
       "      <td>11793</td>\n",
       "      <td>PHO LALA</td>\n",
       "      <td>3500 W 6TH ST STE 226</td>\n",
       "      <td>False</td>\n",
       "      <td>Restaurant</td>\n",
       "      <td>7</td>\n",
       "    </tr>\n",
       "    <tr>\n",
       "      <th>8</th>\n",
       "      <td>11794</td>\n",
       "      <td>ABC DONUTS</td>\n",
       "      <td>3027 N SAN FERNANDO RD UNIT 103</td>\n",
       "      <td>True</td>\n",
       "      <td>Fast Food</td>\n",
       "      <td>1</td>\n",
       "    </tr>\n",
       "    <tr>\n",
       "      <th>9</th>\n",
       "      <td>11795</td>\n",
       "      <td>UPSTAIRS</td>\n",
       "      <td>3707 N CAHUENGA BLVD</td>\n",
       "      <td>False</td>\n",
       "      <td>Restaurant</td>\n",
       "      <td>35</td>\n",
       "    </tr>\n",
       "  </tbody>\n",
       "</table>\n",
       "</div>"
      ],
      "text/plain": [
       "      id          object_name                          address  chain  \\\n",
       "0  11786  HABITAT COFFEE SHOP           3708 N EAGLE ROCK BLVD  False   \n",
       "1  11787             REILLY'S              100 WORLD WAY # 120  False   \n",
       "2  11788       STREET CHURROS        6801 HOLLYWOOD BLVD # 253  False   \n",
       "3  11789    TRINITI ECHO PARK               1814 W SUNSET BLVD  False   \n",
       "4  11790               POLLEN               2100 ECHO PARK AVE  False   \n",
       "5  11791       THE SPOT GRILL              10004 NATIONAL BLVD  False   \n",
       "6  11792                  CPK              100 WORLD WAY # 126  False   \n",
       "7  11793             PHO LALA            3500 W 6TH ST STE 226  False   \n",
       "8  11794           ABC DONUTS  3027 N SAN FERNANDO RD UNIT 103   True   \n",
       "9  11795             UPSTAIRS             3707 N CAHUENGA BLVD  False   \n",
       "\n",
       "  object_type  number  \n",
       "0        Cafe      26  \n",
       "1  Restaurant       9  \n",
       "2   Fast Food      20  \n",
       "3  Restaurant      22  \n",
       "4  Restaurant      20  \n",
       "5  Restaurant      14  \n",
       "6  Restaurant     100  \n",
       "7  Restaurant       7  \n",
       "8   Fast Food       1  \n",
       "9  Restaurant      35  "
      ]
     },
     "execution_count": 3,
     "metadata": {},
     "output_type": "execute_result"
    }
   ],
   "source": [
    "rest.head(10)"
   ]
  },
  {
   "cell_type": "code",
   "execution_count": 4,
   "id": "2e9e75d3",
   "metadata": {},
   "outputs": [
    {
     "name": "stdout",
     "output_type": "stream",
     "text": [
      "<class 'pandas.core.frame.DataFrame'>\n",
      "RangeIndex: 9651 entries, 0 to 9650\n",
      "Data columns (total 6 columns):\n",
      " #   Column       Non-Null Count  Dtype \n",
      "---  ------       --------------  ----- \n",
      " 0   id           9651 non-null   int64 \n",
      " 1   object_name  9651 non-null   object\n",
      " 2   address      9651 non-null   object\n",
      " 3   chain        9648 non-null   object\n",
      " 4   object_type  9651 non-null   object\n",
      " 5   number       9651 non-null   int64 \n",
      "dtypes: int64(2), object(4)\n",
      "memory usage: 2.4 MB\n"
     ]
    }
   ],
   "source": [
    "rest.info(memory_usage = 'deep')"
   ]
  },
  {
   "cell_type": "markdown",
   "id": "17f4dca1",
   "metadata": {},
   "source": [
    "Let's check if we can better utilize memory usage."
   ]
  },
  {
   "cell_type": "code",
   "execution_count": 5,
   "id": "011b1526",
   "metadata": {},
   "outputs": [
    {
     "data": {
      "text/plain": [
       "False    5972\n",
       "True     3676\n",
       "Name: chain, dtype: int64"
      ]
     },
     "execution_count": 5,
     "metadata": {},
     "output_type": "execute_result"
    }
   ],
   "source": [
    "rest.chain.value_counts()"
   ]
  },
  {
   "cell_type": "markdown",
   "id": "99915d56",
   "metadata": {},
   "source": [
    "**Note:**\n",
    "\n",
    "I'm not sure that it's correct to change the data type of True/False values from object to category. I will leave it as is, and if necessary, I will change it in the second version. "
   ]
  },
  {
   "cell_type": "code",
   "execution_count": 6,
   "id": "feef089c",
   "metadata": {},
   "outputs": [
    {
     "data": {
      "text/plain": [
       "Restaurant    7255\n",
       "Fast Food     1066\n",
       "Cafe           435\n",
       "Pizza          320\n",
       "Bar            292\n",
       "Bakery         283\n",
       "Name: object_type, dtype: int64"
      ]
     },
     "execution_count": 6,
     "metadata": {},
     "output_type": "execute_result"
    }
   ],
   "source": [
    "rest.object_type.value_counts()"
   ]
  },
  {
   "cell_type": "markdown",
   "id": "82c20bf1",
   "metadata": {},
   "source": [
    "That's a classic case to change the data type from object to category. \n",
    "\n",
    "Let's go!🤘"
   ]
  },
  {
   "cell_type": "code",
   "execution_count": 7,
   "id": "42c53ecd",
   "metadata": {},
   "outputs": [],
   "source": [
    "rest.object_type = rest.object_type.astype('category')"
   ]
  },
  {
   "cell_type": "code",
   "execution_count": 8,
   "id": "7ab3b36b",
   "metadata": {},
   "outputs": [
    {
     "name": "stdout",
     "output_type": "stream",
     "text": [
      "<class 'pandas.core.frame.DataFrame'>\n",
      "RangeIndex: 9651 entries, 0 to 9650\n",
      "Data columns (total 6 columns):\n",
      " #   Column       Non-Null Count  Dtype   \n",
      "---  ------       --------------  -----   \n",
      " 0   id           9651 non-null   int64   \n",
      " 1   object_name  9651 non-null   object  \n",
      " 2   address      9651 non-null   object  \n",
      " 3   chain        9648 non-null   object  \n",
      " 4   object_type  9651 non-null   category\n",
      " 5   number       9651 non-null   int64   \n",
      "dtypes: category(1), int64(2), object(3)\n",
      "memory usage: 1.8 MB\n"
     ]
    }
   ],
   "source": [
    "rest.info(memory_usage = 'deep')"
   ]
  },
  {
   "cell_type": "markdown",
   "id": "495566fe",
   "metadata": {},
   "source": [
    "Nice! \n",
    "\n",
    "We decreased the memory usage from 2.4MB to 1.8MB."
   ]
  },
  {
   "cell_type": "markdown",
   "id": "ba5368ec",
   "metadata": {},
   "source": [
    "**Missing Values**"
   ]
  },
  {
   "cell_type": "code",
   "execution_count": 9,
   "id": "ff437e97",
   "metadata": {},
   "outputs": [
    {
     "data": {
      "text/plain": [
       "id             0\n",
       "object_name    0\n",
       "address        0\n",
       "chain          3\n",
       "object_type    0\n",
       "number         0\n",
       "dtype: int64"
      ]
     },
     "execution_count": 9,
     "metadata": {},
     "output_type": "execute_result"
    }
   ],
   "source": [
    "rest.isnull().sum()"
   ]
  },
  {
   "cell_type": "markdown",
   "id": "2bea35e8",
   "metadata": {},
   "source": [
    "We see above, both with the info() method and isnull() method that there are 3 missing values in the **chain** column. \n",
    "\n",
    "Let's find these rows."
   ]
  },
  {
   "cell_type": "code",
   "execution_count": 10,
   "id": "011d1016",
   "metadata": {},
   "outputs": [
    {
     "data": {
      "text/html": [
       "<div>\n",
       "<style scoped>\n",
       "    .dataframe tbody tr th:only-of-type {\n",
       "        vertical-align: middle;\n",
       "    }\n",
       "\n",
       "    .dataframe tbody tr th {\n",
       "        vertical-align: top;\n",
       "    }\n",
       "\n",
       "    .dataframe thead th {\n",
       "        text-align: right;\n",
       "    }\n",
       "</style>\n",
       "<table border=\"1\" class=\"dataframe\">\n",
       "  <thead>\n",
       "    <tr style=\"text-align: right;\">\n",
       "      <th></th>\n",
       "      <th>id</th>\n",
       "      <th>object_name</th>\n",
       "      <th>address</th>\n",
       "      <th>chain</th>\n",
       "      <th>object_type</th>\n",
       "      <th>number</th>\n",
       "    </tr>\n",
       "  </thead>\n",
       "  <tbody>\n",
       "    <tr>\n",
       "      <th>7408</th>\n",
       "      <td>19194</td>\n",
       "      <td>TAQUERIA LOS 3 CARNALES</td>\n",
       "      <td>5000 E WHITTIER BLVD</td>\n",
       "      <td>NaN</td>\n",
       "      <td>Restaurant</td>\n",
       "      <td>14</td>\n",
       "    </tr>\n",
       "    <tr>\n",
       "      <th>7523</th>\n",
       "      <td>19309</td>\n",
       "      <td>JAMMIN JIMMY'S PIZZA</td>\n",
       "      <td>1641 FIRESTONE BLVD</td>\n",
       "      <td>NaN</td>\n",
       "      <td>Pizza</td>\n",
       "      <td>1</td>\n",
       "    </tr>\n",
       "    <tr>\n",
       "      <th>8648</th>\n",
       "      <td>20434</td>\n",
       "      <td>THE LEXINGTON THEATER</td>\n",
       "      <td>129 E 3RD ST</td>\n",
       "      <td>NaN</td>\n",
       "      <td>Restaurant</td>\n",
       "      <td>35</td>\n",
       "    </tr>\n",
       "  </tbody>\n",
       "</table>\n",
       "</div>"
      ],
      "text/plain": [
       "         id              object_name               address chain object_type  \\\n",
       "7408  19194  TAQUERIA LOS 3 CARNALES  5000 E WHITTIER BLVD   NaN  Restaurant   \n",
       "7523  19309     JAMMIN JIMMY'S PIZZA   1641 FIRESTONE BLVD   NaN       Pizza   \n",
       "8648  20434    THE LEXINGTON THEATER          129 E 3RD ST   NaN  Restaurant   \n",
       "\n",
       "      number  \n",
       "7408      14  \n",
       "7523       1  \n",
       "8648      35  "
      ]
     },
     "execution_count": 10,
     "metadata": {},
     "output_type": "execute_result"
    }
   ],
   "source": [
    "rest[rest['chain'].isnull()]"
   ]
  },
  {
   "cell_type": "markdown",
   "id": "17f7d644",
   "metadata": {},
   "source": [
    "Let's find the proportion of the missing values out of the entire data set."
   ]
  },
  {
   "cell_type": "code",
   "execution_count": 11,
   "id": "6da92207",
   "metadata": {},
   "outputs": [
    {
     "data": {
      "text/html": [
       "<style type=\"text/css\">\n",
       "</style>\n",
       "<table id=\"T_0153f_\">\n",
       "  <thead>\n",
       "    <tr>\n",
       "      <th class=\"blank level0\" >&nbsp;</th>\n",
       "      <th class=\"col_heading level0 col0\" >missing</th>\n",
       "      <th class=\"col_heading level0 col1\" >total</th>\n",
       "      <th class=\"col_heading level0 col2\" >percent</th>\n",
       "    </tr>\n",
       "  </thead>\n",
       "  <tbody>\n",
       "    <tr>\n",
       "      <th id=\"T_0153f_level0_row0\" class=\"row_heading level0 row0\" >chain</th>\n",
       "      <td id=\"T_0153f_row0_col0\" class=\"data row0 col0\" >3</td>\n",
       "      <td id=\"T_0153f_row0_col1\" class=\"data row0 col1\" >9,651</td>\n",
       "      <td id=\"T_0153f_row0_col2\" class=\"data row0 col2\" >0.03%</td>\n",
       "    </tr>\n",
       "    <tr>\n",
       "      <th id=\"T_0153f_level0_row1\" class=\"row_heading level0 row1\" >id</th>\n",
       "      <td id=\"T_0153f_row1_col0\" class=\"data row1 col0\" >0</td>\n",
       "      <td id=\"T_0153f_row1_col1\" class=\"data row1 col1\" >9,651</td>\n",
       "      <td id=\"T_0153f_row1_col2\" class=\"data row1 col2\" >0.00%</td>\n",
       "    </tr>\n",
       "    <tr>\n",
       "      <th id=\"T_0153f_level0_row2\" class=\"row_heading level0 row2\" >object_name</th>\n",
       "      <td id=\"T_0153f_row2_col0\" class=\"data row2 col0\" >0</td>\n",
       "      <td id=\"T_0153f_row2_col1\" class=\"data row2 col1\" >9,651</td>\n",
       "      <td id=\"T_0153f_row2_col2\" class=\"data row2 col2\" >0.00%</td>\n",
       "    </tr>\n",
       "    <tr>\n",
       "      <th id=\"T_0153f_level0_row3\" class=\"row_heading level0 row3\" >address</th>\n",
       "      <td id=\"T_0153f_row3_col0\" class=\"data row3 col0\" >0</td>\n",
       "      <td id=\"T_0153f_row3_col1\" class=\"data row3 col1\" >9,651</td>\n",
       "      <td id=\"T_0153f_row3_col2\" class=\"data row3 col2\" >0.00%</td>\n",
       "    </tr>\n",
       "    <tr>\n",
       "      <th id=\"T_0153f_level0_row4\" class=\"row_heading level0 row4\" >object_type</th>\n",
       "      <td id=\"T_0153f_row4_col0\" class=\"data row4 col0\" >0</td>\n",
       "      <td id=\"T_0153f_row4_col1\" class=\"data row4 col1\" >9,651</td>\n",
       "      <td id=\"T_0153f_row4_col2\" class=\"data row4 col2\" >0.00%</td>\n",
       "    </tr>\n",
       "    <tr>\n",
       "      <th id=\"T_0153f_level0_row5\" class=\"row_heading level0 row5\" >number</th>\n",
       "      <td id=\"T_0153f_row5_col0\" class=\"data row5 col0\" >0</td>\n",
       "      <td id=\"T_0153f_row5_col1\" class=\"data row5 col1\" >9,651</td>\n",
       "      <td id=\"T_0153f_row5_col2\" class=\"data row5 col2\" >0.00%</td>\n",
       "    </tr>\n",
       "  </tbody>\n",
       "</table>\n"
      ],
      "text/plain": [
       "<pandas.io.formats.style.Styler at 0x7fa099ef7940>"
      ]
     },
     "execution_count": 11,
     "metadata": {},
     "output_type": "execute_result"
    }
   ],
   "source": [
    "rest.stb.missing(style=True)"
   ]
  },
  {
   "cell_type": "markdown",
   "id": "ad041191",
   "metadata": {},
   "source": [
    "So here we see that the percentage of the missing values is very small and insignificant - 0.03%. We can definitely drop the missing values."
   ]
  },
  {
   "cell_type": "code",
   "execution_count": 12,
   "id": "aed34e66",
   "metadata": {},
   "outputs": [
    {
     "data": {
      "text/html": [
       "<style type=\"text/css\">\n",
       "</style>\n",
       "<table id=\"T_6e8eb_\">\n",
       "  <thead>\n",
       "    <tr>\n",
       "      <th class=\"blank level0\" >&nbsp;</th>\n",
       "      <th class=\"col_heading level0 col0\" >missing</th>\n",
       "      <th class=\"col_heading level0 col1\" >total</th>\n",
       "      <th class=\"col_heading level0 col2\" >percent</th>\n",
       "    </tr>\n",
       "  </thead>\n",
       "  <tbody>\n",
       "    <tr>\n",
       "      <th id=\"T_6e8eb_level0_row0\" class=\"row_heading level0 row0\" >id</th>\n",
       "      <td id=\"T_6e8eb_row0_col0\" class=\"data row0 col0\" >0</td>\n",
       "      <td id=\"T_6e8eb_row0_col1\" class=\"data row0 col1\" >9,648</td>\n",
       "      <td id=\"T_6e8eb_row0_col2\" class=\"data row0 col2\" >0.00%</td>\n",
       "    </tr>\n",
       "    <tr>\n",
       "      <th id=\"T_6e8eb_level0_row1\" class=\"row_heading level0 row1\" >object_name</th>\n",
       "      <td id=\"T_6e8eb_row1_col0\" class=\"data row1 col0\" >0</td>\n",
       "      <td id=\"T_6e8eb_row1_col1\" class=\"data row1 col1\" >9,648</td>\n",
       "      <td id=\"T_6e8eb_row1_col2\" class=\"data row1 col2\" >0.00%</td>\n",
       "    </tr>\n",
       "    <tr>\n",
       "      <th id=\"T_6e8eb_level0_row2\" class=\"row_heading level0 row2\" >address</th>\n",
       "      <td id=\"T_6e8eb_row2_col0\" class=\"data row2 col0\" >0</td>\n",
       "      <td id=\"T_6e8eb_row2_col1\" class=\"data row2 col1\" >9,648</td>\n",
       "      <td id=\"T_6e8eb_row2_col2\" class=\"data row2 col2\" >0.00%</td>\n",
       "    </tr>\n",
       "    <tr>\n",
       "      <th id=\"T_6e8eb_level0_row3\" class=\"row_heading level0 row3\" >chain</th>\n",
       "      <td id=\"T_6e8eb_row3_col0\" class=\"data row3 col0\" >0</td>\n",
       "      <td id=\"T_6e8eb_row3_col1\" class=\"data row3 col1\" >9,648</td>\n",
       "      <td id=\"T_6e8eb_row3_col2\" class=\"data row3 col2\" >0.00%</td>\n",
       "    </tr>\n",
       "    <tr>\n",
       "      <th id=\"T_6e8eb_level0_row4\" class=\"row_heading level0 row4\" >object_type</th>\n",
       "      <td id=\"T_6e8eb_row4_col0\" class=\"data row4 col0\" >0</td>\n",
       "      <td id=\"T_6e8eb_row4_col1\" class=\"data row4 col1\" >9,648</td>\n",
       "      <td id=\"T_6e8eb_row4_col2\" class=\"data row4 col2\" >0.00%</td>\n",
       "    </tr>\n",
       "    <tr>\n",
       "      <th id=\"T_6e8eb_level0_row5\" class=\"row_heading level0 row5\" >number</th>\n",
       "      <td id=\"T_6e8eb_row5_col0\" class=\"data row5 col0\" >0</td>\n",
       "      <td id=\"T_6e8eb_row5_col1\" class=\"data row5 col1\" >9,648</td>\n",
       "      <td id=\"T_6e8eb_row5_col2\" class=\"data row5 col2\" >0.00%</td>\n",
       "    </tr>\n",
       "  </tbody>\n",
       "</table>\n"
      ],
      "text/plain": [
       "<pandas.io.formats.style.Styler at 0x7fa0c905e100>"
      ]
     },
     "execution_count": 12,
     "metadata": {},
     "output_type": "execute_result"
    }
   ],
   "source": [
    "rest.dropna(subset=['chain'], inplace = True)\n",
    "rest.stb.missing(style=True)"
   ]
  },
  {
   "cell_type": "markdown",
   "id": "15399ee1",
   "metadata": {},
   "source": [
    "Sweet!\n",
    "\n",
    "We dropped all the missing values in the data set.🙌\n",
    "\n",
    "Now Let's check for duplicates."
   ]
  },
  {
   "cell_type": "markdown",
   "id": "3e1fa442",
   "metadata": {},
   "source": [
    "**Duplicates**"
   ]
  },
  {
   "cell_type": "markdown",
   "id": "f97e0047",
   "metadata": {},
   "source": [
    "First, let's change the values of the data set to be with lowercase letters."
   ]
  },
  {
   "cell_type": "code",
   "execution_count": 13,
   "id": "a0d62b57",
   "metadata": {},
   "outputs": [
    {
     "data": {
      "text/plain": [
       "Index(['id', 'object_name', 'address', 'chain', 'object_type', 'number'], dtype='object')"
      ]
     },
     "execution_count": 13,
     "metadata": {},
     "output_type": "execute_result"
    }
   ],
   "source": [
    "rest.columns"
   ]
  },
  {
   "cell_type": "code",
   "execution_count": 14,
   "id": "59a2bdf7",
   "metadata": {},
   "outputs": [
    {
     "name": "stdout",
     "output_type": "stream",
     "text": [
      "<class 'pandas.core.frame.DataFrame'>\n",
      "Int64Index: 9648 entries, 0 to 9650\n",
      "Data columns (total 6 columns):\n",
      " #   Column       Non-Null Count  Dtype   \n",
      "---  ------       --------------  -----   \n",
      " 0   id           9648 non-null   int64   \n",
      " 1   object_name  9648 non-null   object  \n",
      " 2   address      9648 non-null   object  \n",
      " 3   chain        9648 non-null   object  \n",
      " 4   object_type  9648 non-null   category\n",
      " 5   number       9648 non-null   int64   \n",
      "dtypes: category(1), int64(2), object(3)\n",
      "memory usage: 461.9+ KB\n"
     ]
    }
   ],
   "source": [
    "rest.info()"
   ]
  },
  {
   "cell_type": "code",
   "execution_count": 15,
   "id": "ea90cc50",
   "metadata": {},
   "outputs": [
    {
     "data": {
      "text/html": [
       "<div>\n",
       "<style scoped>\n",
       "    .dataframe tbody tr th:only-of-type {\n",
       "        vertical-align: middle;\n",
       "    }\n",
       "\n",
       "    .dataframe tbody tr th {\n",
       "        vertical-align: top;\n",
       "    }\n",
       "\n",
       "    .dataframe thead th {\n",
       "        text-align: right;\n",
       "    }\n",
       "</style>\n",
       "<table border=\"1\" class=\"dataframe\">\n",
       "  <thead>\n",
       "    <tr style=\"text-align: right;\">\n",
       "      <th></th>\n",
       "      <th>id</th>\n",
       "      <th>object_name</th>\n",
       "      <th>address</th>\n",
       "      <th>chain</th>\n",
       "      <th>object_type</th>\n",
       "      <th>number</th>\n",
       "    </tr>\n",
       "  </thead>\n",
       "  <tbody>\n",
       "    <tr>\n",
       "      <th>0</th>\n",
       "      <td>11786</td>\n",
       "      <td>habitat coffee shop</td>\n",
       "      <td>3708 n eagle rock blvd</td>\n",
       "      <td>False</td>\n",
       "      <td>cafe</td>\n",
       "      <td>26</td>\n",
       "    </tr>\n",
       "    <tr>\n",
       "      <th>1</th>\n",
       "      <td>11787</td>\n",
       "      <td>reilly's</td>\n",
       "      <td>100 world way # 120</td>\n",
       "      <td>False</td>\n",
       "      <td>restaurant</td>\n",
       "      <td>9</td>\n",
       "    </tr>\n",
       "    <tr>\n",
       "      <th>2</th>\n",
       "      <td>11788</td>\n",
       "      <td>street churros</td>\n",
       "      <td>6801 hollywood blvd # 253</td>\n",
       "      <td>False</td>\n",
       "      <td>fast food</td>\n",
       "      <td>20</td>\n",
       "    </tr>\n",
       "    <tr>\n",
       "      <th>3</th>\n",
       "      <td>11789</td>\n",
       "      <td>triniti echo park</td>\n",
       "      <td>1814 w sunset blvd</td>\n",
       "      <td>False</td>\n",
       "      <td>restaurant</td>\n",
       "      <td>22</td>\n",
       "    </tr>\n",
       "    <tr>\n",
       "      <th>4</th>\n",
       "      <td>11790</td>\n",
       "      <td>pollen</td>\n",
       "      <td>2100 echo park ave</td>\n",
       "      <td>False</td>\n",
       "      <td>restaurant</td>\n",
       "      <td>20</td>\n",
       "    </tr>\n",
       "  </tbody>\n",
       "</table>\n",
       "</div>"
      ],
      "text/plain": [
       "      id          object_name                    address  chain object_type  \\\n",
       "0  11786  habitat coffee shop     3708 n eagle rock blvd  False        cafe   \n",
       "1  11787             reilly's        100 world way # 120  False  restaurant   \n",
       "2  11788       street churros  6801 hollywood blvd # 253  False   fast food   \n",
       "3  11789    triniti echo park         1814 w sunset blvd  False  restaurant   \n",
       "4  11790               pollen         2100 echo park ave  False  restaurant   \n",
       "\n",
       "   number  \n",
       "0      26  \n",
       "1       9  \n",
       "2      20  \n",
       "3      22  \n",
       "4      20  "
      ]
     },
     "execution_count": 15,
     "metadata": {},
     "output_type": "execute_result"
    }
   ],
   "source": [
    "rest['object_name'] = rest['object_name'].str.lower()\n",
    "rest['address'] = rest['address'].str.lower()\n",
    "rest['object_type'] = rest['object_type'].str.lower()\n",
    "rest.head()"
   ]
  },
  {
   "cell_type": "code",
   "execution_count": 16,
   "id": "0ac286f0",
   "metadata": {},
   "outputs": [
    {
     "data": {
      "text/plain": [
       "0"
      ]
     },
     "execution_count": 16,
     "metadata": {},
     "output_type": "execute_result"
    }
   ],
   "source": [
    "rest.duplicated().sum()"
   ]
  },
  {
   "cell_type": "markdown",
   "id": "cd7e6215",
   "metadata": {},
   "source": [
    "Yay!\n",
    "\n",
    "No duplicates!\n",
    "\n",
    "\n",
    "The data is clean and ready for analysis. \n",
    "\n",
    "Let's start.🤘"
   ]
  },
  {
   "cell_type": "markdown",
   "id": "4da88f15",
   "metadata": {},
   "source": [
    "### Step 2. Data analysis"
   ]
  },
  {
   "cell_type": "markdown",
   "id": "be20c231",
   "metadata": {},
   "source": [
    "**1. Investigate the proportions of the various types of establishments. Plot a\n",
    "graph.**"
   ]
  },
  {
   "cell_type": "markdown",
   "id": "d0f8d263",
   "metadata": {},
   "source": [
    "Let's create the right data set for this graph and then plott it."
   ]
  },
  {
   "cell_type": "code",
   "execution_count": 17,
   "id": "a2adf06d",
   "metadata": {},
   "outputs": [
    {
     "data": {
      "text/html": [
       "<div>\n",
       "<style scoped>\n",
       "    .dataframe tbody tr th:only-of-type {\n",
       "        vertical-align: middle;\n",
       "    }\n",
       "\n",
       "    .dataframe tbody tr th {\n",
       "        vertical-align: top;\n",
       "    }\n",
       "\n",
       "    .dataframe thead th {\n",
       "        text-align: right;\n",
       "    }\n",
       "</style>\n",
       "<table border=\"1\" class=\"dataframe\">\n",
       "  <thead>\n",
       "    <tr style=\"text-align: right;\">\n",
       "      <th></th>\n",
       "      <th>id</th>\n",
       "      <th>object_name</th>\n",
       "      <th>address</th>\n",
       "      <th>chain</th>\n",
       "      <th>object_type</th>\n",
       "      <th>number</th>\n",
       "    </tr>\n",
       "  </thead>\n",
       "  <tbody>\n",
       "    <tr>\n",
       "      <th>0</th>\n",
       "      <td>11786</td>\n",
       "      <td>habitat coffee shop</td>\n",
       "      <td>3708 n eagle rock blvd</td>\n",
       "      <td>False</td>\n",
       "      <td>cafe</td>\n",
       "      <td>26</td>\n",
       "    </tr>\n",
       "    <tr>\n",
       "      <th>1</th>\n",
       "      <td>11787</td>\n",
       "      <td>reilly's</td>\n",
       "      <td>100 world way # 120</td>\n",
       "      <td>False</td>\n",
       "      <td>restaurant</td>\n",
       "      <td>9</td>\n",
       "    </tr>\n",
       "    <tr>\n",
       "      <th>2</th>\n",
       "      <td>11788</td>\n",
       "      <td>street churros</td>\n",
       "      <td>6801 hollywood blvd # 253</td>\n",
       "      <td>False</td>\n",
       "      <td>fast food</td>\n",
       "      <td>20</td>\n",
       "    </tr>\n",
       "    <tr>\n",
       "      <th>3</th>\n",
       "      <td>11789</td>\n",
       "      <td>triniti echo park</td>\n",
       "      <td>1814 w sunset blvd</td>\n",
       "      <td>False</td>\n",
       "      <td>restaurant</td>\n",
       "      <td>22</td>\n",
       "    </tr>\n",
       "    <tr>\n",
       "      <th>4</th>\n",
       "      <td>11790</td>\n",
       "      <td>pollen</td>\n",
       "      <td>2100 echo park ave</td>\n",
       "      <td>False</td>\n",
       "      <td>restaurant</td>\n",
       "      <td>20</td>\n",
       "    </tr>\n",
       "  </tbody>\n",
       "</table>\n",
       "</div>"
      ],
      "text/plain": [
       "      id          object_name                    address  chain object_type  \\\n",
       "0  11786  habitat coffee shop     3708 n eagle rock blvd  False        cafe   \n",
       "1  11787             reilly's        100 world way # 120  False  restaurant   \n",
       "2  11788       street churros  6801 hollywood blvd # 253  False   fast food   \n",
       "3  11789    triniti echo park         1814 w sunset blvd  False  restaurant   \n",
       "4  11790               pollen         2100 echo park ave  False  restaurant   \n",
       "\n",
       "   number  \n",
       "0      26  \n",
       "1       9  \n",
       "2      20  \n",
       "3      22  \n",
       "4      20  "
      ]
     },
     "execution_count": 17,
     "metadata": {},
     "output_type": "execute_result"
    }
   ],
   "source": [
    "rest.head()"
   ]
  },
  {
   "cell_type": "code",
   "execution_count": 18,
   "id": "25b1a4b7",
   "metadata": {},
   "outputs": [
    {
     "data": {
      "text/html": [
       "<div>\n",
       "<style scoped>\n",
       "    .dataframe tbody tr th:only-of-type {\n",
       "        vertical-align: middle;\n",
       "    }\n",
       "\n",
       "    .dataframe tbody tr th {\n",
       "        vertical-align: top;\n",
       "    }\n",
       "\n",
       "    .dataframe thead th {\n",
       "        text-align: right;\n",
       "    }\n",
       "</style>\n",
       "<table border=\"1\" class=\"dataframe\">\n",
       "  <thead>\n",
       "    <tr style=\"text-align: right;\">\n",
       "      <th></th>\n",
       "      <th>establishment</th>\n",
       "      <th>num</th>\n",
       "    </tr>\n",
       "  </thead>\n",
       "  <tbody>\n",
       "    <tr>\n",
       "      <th>5</th>\n",
       "      <td>restaurant</td>\n",
       "      <td>7253</td>\n",
       "    </tr>\n",
       "    <tr>\n",
       "      <th>3</th>\n",
       "      <td>fast food</td>\n",
       "      <td>1066</td>\n",
       "    </tr>\n",
       "    <tr>\n",
       "      <th>2</th>\n",
       "      <td>cafe</td>\n",
       "      <td>435</td>\n",
       "    </tr>\n",
       "    <tr>\n",
       "      <th>4</th>\n",
       "      <td>pizza</td>\n",
       "      <td>319</td>\n",
       "    </tr>\n",
       "    <tr>\n",
       "      <th>1</th>\n",
       "      <td>bar</td>\n",
       "      <td>292</td>\n",
       "    </tr>\n",
       "    <tr>\n",
       "      <th>0</th>\n",
       "      <td>bakery</td>\n",
       "      <td>283</td>\n",
       "    </tr>\n",
       "  </tbody>\n",
       "</table>\n",
       "</div>"
      ],
      "text/plain": [
       "  establishment   num\n",
       "5    restaurant  7253\n",
       "3     fast food  1066\n",
       "2          cafe   435\n",
       "4         pizza   319\n",
       "1           bar   292\n",
       "0        bakery   283"
      ]
     },
     "execution_count": 18,
     "metadata": {},
     "output_type": "execute_result"
    }
   ],
   "source": [
    "esta_grouped = rest.groupby('object_type')['id'].nunique().reset_index()\n",
    "esta_grouped.columns = ['establishment', 'num']\n",
    "esta_grouped = esta_grouped.sort_values(by='num', ascending = False)\n",
    "esta_grouped"
   ]
  },
  {
   "cell_type": "markdown",
   "id": "8c600d87",
   "metadata": {},
   "source": [
    "Now let's plot the graph.✌️"
   ]
  },
  {
   "cell_type": "code",
   "execution_count": 19,
   "id": "690014a7",
   "metadata": {},
   "outputs": [
    {
     "data": {
      "image/png": "[encoded data removed]",
      "text/plain": [
       "<Figure size 1080x720 with 1 Axes>"
      ]
     },
     "metadata": {},
     "output_type": "display_data"
    }
   ],
   "source": [
    "fig = plt.subplots(figsize=(15, 10))\n",
    "plt.pie(esta_grouped['num'], labels = esta_grouped['establishment'], colors = sns.color_palette('bright'),\n",
    "       autopct = '%0.0f%%')\n",
    "plt.title(\"Split by establishment\")\n",
    "plt.show()"
   ]
  },
  {
   "cell_type": "markdown",
   "id": "9246adcf",
   "metadata": {},
   "source": [
    "So here we see that restaurant is the most popular type of establishment in LA, followed by is the fast food, and then coffee houses. Pizza, bar, and bakery control the same low percentage of the market - only 3%. "
   ]
  },
  {
   "cell_type": "markdown",
   "id": "c8c39002",
   "metadata": {},
   "source": [
    "**2. Investigate the proportions of chain and nonchain establishments. Plot a\n",
    "graph.**"
   ]
  },
  {
   "cell_type": "markdown",
   "id": "b4c14b8f",
   "metadata": {},
   "source": [
    "First, let's create the relevant data for this question."
   ]
  },
  {
   "cell_type": "code",
   "execution_count": 20,
   "id": "b97a5714",
   "metadata": {},
   "outputs": [
    {
     "data": {
      "text/html": [
       "<div>\n",
       "<style scoped>\n",
       "    .dataframe tbody tr th:only-of-type {\n",
       "        vertical-align: middle;\n",
       "    }\n",
       "\n",
       "    .dataframe tbody tr th {\n",
       "        vertical-align: top;\n",
       "    }\n",
       "\n",
       "    .dataframe thead th {\n",
       "        text-align: right;\n",
       "    }\n",
       "</style>\n",
       "<table border=\"1\" class=\"dataframe\">\n",
       "  <thead>\n",
       "    <tr style=\"text-align: right;\">\n",
       "      <th></th>\n",
       "      <th>chain</th>\n",
       "      <th>num</th>\n",
       "    </tr>\n",
       "  </thead>\n",
       "  <tbody>\n",
       "    <tr>\n",
       "      <th>0</th>\n",
       "      <td>False</td>\n",
       "      <td>5972</td>\n",
       "    </tr>\n",
       "    <tr>\n",
       "      <th>1</th>\n",
       "      <td>True</td>\n",
       "      <td>3676</td>\n",
       "    </tr>\n",
       "  </tbody>\n",
       "</table>\n",
       "</div>"
      ],
      "text/plain": [
       "   chain   num\n",
       "0  False  5972\n",
       "1   True  3676"
      ]
     },
     "execution_count": 20,
     "metadata": {},
     "output_type": "execute_result"
    }
   ],
   "source": [
    "chain_grouped = rest.groupby('chain')['id'].nunique().reset_index()\n",
    "chain_grouped.columns = ['chain', 'num']\n",
    "chain_grouped"
   ]
  },
  {
   "cell_type": "code",
   "execution_count": 21,
   "id": "20cfaee2",
   "metadata": {},
   "outputs": [
    {
     "data": {
      "image/png": "[encoded data removed]",
      "text/plain": [
       "<Figure size 1080x720 with 1 Axes>"
      ]
     },
     "metadata": {
      "needs_background": "light"
     },
     "output_type": "display_data"
    }
   ],
   "source": [
    "fig = plt.subplots(figsize=(15, 10))\n",
    "plt.bar(chain_grouped['chain'],chain_grouped['num'], color = ['#3FC1C9', '#FC5185'])\n",
    "plt.title('Proportions of Chain and Nonchain Establishments')\n",
    "plt.xlabel('Chain and Nonchain Establishments')\n",
    "plt.ylabel('Num')\n",
    "plt.xticks(np.arange(2), chain_grouped['chain'])\n",
    "plt.show()"
   ]
  },
  {
   "cell_type": "markdown",
   "id": "4255e0e4",
   "metadata": {},
   "source": [
    "So it seems that non-chain restaurants are more popular in LA. It's a very important and positive metric for the city of LA because it means that the door for the restaurant business in the city is open for everybody, and not only the strong and already established chains. This increases the competition and makes all the players in the culinary arena always strive to give better service and products to customers - Which is a great thing because the customer gets better and tastier food for a lower price.🙌😀"
   ]
  },
  {
   "cell_type": "markdown",
   "id": "6f9613a8",
   "metadata": {},
   "source": [
    "**3. Which type of establishment is typically a chain?**"
   ]
  },
  {
   "cell_type": "markdown",
   "id": "47e0ac3d",
   "metadata": {},
   "source": [
    "Let's build the relevant data set first."
   ]
  },
  {
   "cell_type": "code",
   "execution_count": 22,
   "id": "6e11a7aa",
   "metadata": {},
   "outputs": [
    {
     "data": {
      "text/html": [
       "<div>\n",
       "<style scoped>\n",
       "    .dataframe tbody tr th:only-of-type {\n",
       "        vertical-align: middle;\n",
       "    }\n",
       "\n",
       "    .dataframe tbody tr th {\n",
       "        vertical-align: top;\n",
       "    }\n",
       "\n",
       "    .dataframe thead th {\n",
       "        text-align: right;\n",
       "    }\n",
       "</style>\n",
       "<table border=\"1\" class=\"dataframe\">\n",
       "  <thead>\n",
       "    <tr style=\"text-align: right;\">\n",
       "      <th></th>\n",
       "      <th>chain</th>\n",
       "      <th>object_type</th>\n",
       "      <th>num</th>\n",
       "    </tr>\n",
       "  </thead>\n",
       "  <tbody>\n",
       "    <tr>\n",
       "      <th>0</th>\n",
       "      <td>False</td>\n",
       "      <td>bar</td>\n",
       "      <td>215</td>\n",
       "    </tr>\n",
       "    <tr>\n",
       "      <th>1</th>\n",
       "      <td>False</td>\n",
       "      <td>cafe</td>\n",
       "      <td>169</td>\n",
       "    </tr>\n",
       "    <tr>\n",
       "      <th>2</th>\n",
       "      <td>False</td>\n",
       "      <td>fast food</td>\n",
       "      <td>461</td>\n",
       "    </tr>\n",
       "    <tr>\n",
       "      <th>3</th>\n",
       "      <td>False</td>\n",
       "      <td>pizza</td>\n",
       "      <td>166</td>\n",
       "    </tr>\n",
       "    <tr>\n",
       "      <th>4</th>\n",
       "      <td>False</td>\n",
       "      <td>restaurant</td>\n",
       "      <td>4961</td>\n",
       "    </tr>\n",
       "    <tr>\n",
       "      <th>5</th>\n",
       "      <td>True</td>\n",
       "      <td>bakery</td>\n",
       "      <td>283</td>\n",
       "    </tr>\n",
       "    <tr>\n",
       "      <th>6</th>\n",
       "      <td>True</td>\n",
       "      <td>bar</td>\n",
       "      <td>77</td>\n",
       "    </tr>\n",
       "    <tr>\n",
       "      <th>7</th>\n",
       "      <td>True</td>\n",
       "      <td>cafe</td>\n",
       "      <td>266</td>\n",
       "    </tr>\n",
       "    <tr>\n",
       "      <th>8</th>\n",
       "      <td>True</td>\n",
       "      <td>fast food</td>\n",
       "      <td>605</td>\n",
       "    </tr>\n",
       "    <tr>\n",
       "      <th>9</th>\n",
       "      <td>True</td>\n",
       "      <td>pizza</td>\n",
       "      <td>153</td>\n",
       "    </tr>\n",
       "    <tr>\n",
       "      <th>10</th>\n",
       "      <td>True</td>\n",
       "      <td>restaurant</td>\n",
       "      <td>2292</td>\n",
       "    </tr>\n",
       "  </tbody>\n",
       "</table>\n",
       "</div>"
      ],
      "text/plain": [
       "    chain object_type   num\n",
       "0   False         bar   215\n",
       "1   False        cafe   169\n",
       "2   False   fast food   461\n",
       "3   False       pizza   166\n",
       "4   False  restaurant  4961\n",
       "5    True      bakery   283\n",
       "6    True         bar    77\n",
       "7    True        cafe   266\n",
       "8    True   fast food   605\n",
       "9    True       pizza   153\n",
       "10   True  restaurant  2292"
      ]
     },
     "execution_count": 22,
     "metadata": {},
     "output_type": "execute_result"
    }
   ],
   "source": [
    "chain_esta_grouped = rest.groupby(['chain', 'object_type'])['id'].nunique().reset_index()\n",
    "chain_esta_grouped.columns = ['chain', 'object_type', 'num']\n",
    "chain_esta_grouped"
   ]
  },
  {
   "cell_type": "code",
   "execution_count": 23,
   "id": "e0ab4b10",
   "metadata": {},
   "outputs": [
    {
     "data": {
      "image/png": "[encoded data removed]",
      "text/plain": [
       "<Figure size 421.25x360 with 1 Axes>"
      ]
     },
     "metadata": {
      "needs_background": "light"
     },
     "output_type": "display_data"
    }
   ],
   "source": [
    "sns.catplot(x=\"object_type\", y=\"num\", hue=\"chain\", kind=\"bar\", data=chain_esta_grouped)\n",
    "plt.title('Establishments By Chain')\n",
    "plt.show()"
   ]
  },
  {
   "cell_type": "markdown",
   "id": "fec36e3d",
   "metadata": {},
   "source": [
    "Here we see that restaurant is the establishment type that is most likely to be a chain. Also, it seems that bakery is an \"only chain\" establishment. People don't open a bakery unless it's a franchise. "
   ]
  },
  {
   "cell_type": "markdown",
   "id": "a6917309",
   "metadata": {},
   "source": [
    "**4. What characterizes chains: many establishments with a small number of seats or a few establishments with a lot of seats?**"
   ]
  },
  {
   "cell_type": "markdown",
   "id": "42361ab6",
   "metadata": {},
   "source": [
    "First, let's create the right data set."
   ]
  },
  {
   "cell_type": "code",
   "execution_count": 24,
   "id": "1fb412f0",
   "metadata": {},
   "outputs": [
    {
     "data": {
      "text/html": [
       "<div>\n",
       "<style scoped>\n",
       "    .dataframe tbody tr th:only-of-type {\n",
       "        vertical-align: middle;\n",
       "    }\n",
       "\n",
       "    .dataframe tbody tr th {\n",
       "        vertical-align: top;\n",
       "    }\n",
       "\n",
       "    .dataframe thead th {\n",
       "        text-align: right;\n",
       "    }\n",
       "</style>\n",
       "<table border=\"1\" class=\"dataframe\">\n",
       "  <thead>\n",
       "    <tr style=\"text-align: right;\">\n",
       "      <th></th>\n",
       "      <th>id</th>\n",
       "      <th>object_name</th>\n",
       "      <th>address</th>\n",
       "      <th>chain</th>\n",
       "      <th>object_type</th>\n",
       "      <th>number</th>\n",
       "    </tr>\n",
       "  </thead>\n",
       "  <tbody>\n",
       "    <tr>\n",
       "      <th>8</th>\n",
       "      <td>11794</td>\n",
       "      <td>abc donuts</td>\n",
       "      <td>3027 n san fernando rd unit 103</td>\n",
       "      <td>True</td>\n",
       "      <td>fast food</td>\n",
       "      <td>1</td>\n",
       "    </tr>\n",
       "    <tr>\n",
       "      <th>10</th>\n",
       "      <td>11796</td>\n",
       "      <td>el pollo loco</td>\n",
       "      <td>5319 w sunset blvd</td>\n",
       "      <td>True</td>\n",
       "      <td>restaurant</td>\n",
       "      <td>38</td>\n",
       "    </tr>\n",
       "    <tr>\n",
       "      <th>11</th>\n",
       "      <td>11797</td>\n",
       "      <td>poong nyun bakery</td>\n",
       "      <td>928 s western ave ste 109</td>\n",
       "      <td>True</td>\n",
       "      <td>bakery</td>\n",
       "      <td>17</td>\n",
       "    </tr>\n",
       "    <tr>\n",
       "      <th>12</th>\n",
       "      <td>11798</td>\n",
       "      <td>emc restaurant group llc</td>\n",
       "      <td>3500 w 6th st ste 101</td>\n",
       "      <td>True</td>\n",
       "      <td>restaurant</td>\n",
       "      <td>133</td>\n",
       "    </tr>\n",
       "    <tr>\n",
       "      <th>14</th>\n",
       "      <td>11800</td>\n",
       "      <td>cuscatleca bakery</td>\n",
       "      <td>2501 w sunset blvd #a</td>\n",
       "      <td>True</td>\n",
       "      <td>bakery</td>\n",
       "      <td>26</td>\n",
       "    </tr>\n",
       "  </tbody>\n",
       "</table>\n",
       "</div>"
      ],
      "text/plain": [
       "       id               object_name                          address chain  \\\n",
       "8   11794                abc donuts  3027 n san fernando rd unit 103  True   \n",
       "10  11796             el pollo loco               5319 w sunset blvd  True   \n",
       "11  11797         poong nyun bakery        928 s western ave ste 109  True   \n",
       "12  11798  emc restaurant group llc            3500 w 6th st ste 101  True   \n",
       "14  11800         cuscatleca bakery            2501 w sunset blvd #a  True   \n",
       "\n",
       "   object_type  number  \n",
       "8    fast food       1  \n",
       "10  restaurant      38  \n",
       "11      bakery      17  \n",
       "12  restaurant     133  \n",
       "14      bakery      26  "
      ]
     },
     "execution_count": 24,
     "metadata": {},
     "output_type": "execute_result"
    }
   ],
   "source": [
    "chain = rest.query('chain == True')\n",
    "chain.head()"
   ]
  },
  {
   "cell_type": "code",
   "execution_count": 25,
   "id": "62c7ab27",
   "metadata": {},
   "outputs": [
    {
     "data": {
      "text/html": [
       "<div>\n",
       "<style scoped>\n",
       "    .dataframe tbody tr th:only-of-type {\n",
       "        vertical-align: middle;\n",
       "    }\n",
       "\n",
       "    .dataframe tbody tr th {\n",
       "        vertical-align: top;\n",
       "    }\n",
       "\n",
       "    .dataframe thead th {\n",
       "        text-align: right;\n",
       "    }\n",
       "</style>\n",
       "<table border=\"1\" class=\"dataframe\">\n",
       "  <thead>\n",
       "    <tr style=\"text-align: right;\">\n",
       "      <th></th>\n",
       "      <th>name</th>\n",
       "      <th>num</th>\n",
       "      <th>average_seats</th>\n",
       "    </tr>\n",
       "  </thead>\n",
       "  <tbody>\n",
       "    <tr>\n",
       "      <th>0</th>\n",
       "      <td>#1 chinese fast food</td>\n",
       "      <td>1</td>\n",
       "      <td>6.0</td>\n",
       "    </tr>\n",
       "    <tr>\n",
       "      <th>1</th>\n",
       "      <td>1810 restaurant</td>\n",
       "      <td>1</td>\n",
       "      <td>45.0</td>\n",
       "    </tr>\n",
       "    <tr>\n",
       "      <th>2</th>\n",
       "      <td>333</td>\n",
       "      <td>1</td>\n",
       "      <td>180.0</td>\n",
       "    </tr>\n",
       "    <tr>\n",
       "      <th>3</th>\n",
       "      <td>3rd st market &amp; deli</td>\n",
       "      <td>1</td>\n",
       "      <td>7.0</td>\n",
       "    </tr>\n",
       "    <tr>\n",
       "      <th>4</th>\n",
       "      <td>4 caminos restaurant</td>\n",
       "      <td>1</td>\n",
       "      <td>18.0</td>\n",
       "    </tr>\n",
       "    <tr>\n",
       "      <th>...</th>\n",
       "      <td>...</td>\n",
       "      <td>...</td>\n",
       "      <td>...</td>\n",
       "    </tr>\n",
       "    <tr>\n",
       "      <th>2728</th>\n",
       "      <td>zankou chicken</td>\n",
       "      <td>2</td>\n",
       "      <td>53.5</td>\n",
       "    </tr>\n",
       "    <tr>\n",
       "      <th>2729</th>\n",
       "      <td>zen bakery (retail)</td>\n",
       "      <td>1</td>\n",
       "      <td>19.0</td>\n",
       "    </tr>\n",
       "    <tr>\n",
       "      <th>2730</th>\n",
       "      <td>zermenos restaurant inc</td>\n",
       "      <td>1</td>\n",
       "      <td>10.0</td>\n",
       "    </tr>\n",
       "    <tr>\n",
       "      <th>2731</th>\n",
       "      <td>zion market deli &amp; island</td>\n",
       "      <td>1</td>\n",
       "      <td>16.0</td>\n",
       "    </tr>\n",
       "    <tr>\n",
       "      <th>2732</th>\n",
       "      <td>zip sushi &amp; izakaya</td>\n",
       "      <td>1</td>\n",
       "      <td>98.0</td>\n",
       "    </tr>\n",
       "  </tbody>\n",
       "</table>\n",
       "<p>2733 rows × 3 columns</p>\n",
       "</div>"
      ],
      "text/plain": [
       "                           name  num  average_seats\n",
       "0          #1 chinese fast food    1            6.0\n",
       "1               1810 restaurant    1           45.0\n",
       "2                           333    1          180.0\n",
       "3          3rd st market & deli    1            7.0\n",
       "4          4 caminos restaurant    1           18.0\n",
       "...                         ...  ...            ...\n",
       "2728             zankou chicken    2           53.5\n",
       "2729        zen bakery (retail)    1           19.0\n",
       "2730    zermenos restaurant inc    1           10.0\n",
       "2731  zion market deli & island    1           16.0\n",
       "2732        zip sushi & izakaya    1           98.0\n",
       "\n",
       "[2733 rows x 3 columns]"
      ]
     },
     "execution_count": 25,
     "metadata": {},
     "output_type": "execute_result"
    }
   ],
   "source": [
    "chain_seat_grouped = chain.groupby('object_name')['number'].agg(['count', 'median']).reset_index()\n",
    "chain_seat_grouped.columns = ['name', 'num', 'average_seats']\n",
    "chain_seat_grouped"
   ]
  },
  {
   "cell_type": "markdown",
   "id": "9e55dbdc",
   "metadata": {},
   "source": [
    "Now let's plot a scatter plot to answer the question."
   ]
  },
  {
   "cell_type": "code",
   "execution_count": 26,
   "id": "d4a9b2d3",
   "metadata": {},
   "outputs": [
    {
     "data": {
      "image/png": "[encoded data removed]",
      "text/plain": [
       "<Figure size 432x288 with 1 Axes>"
      ]
     },
     "metadata": {
      "needs_background": "light"
     },
     "output_type": "display_data"
    }
   ],
   "source": [
    "sns.scatterplot(data =chain_seat_grouped, x = 'average_seats', y = 'num')\n",
    "plt.title('Number of Establishments VS. Average Number of seats in Chains')\n",
    "plt.xlabel('Average Number of seats')\n",
    "plt.ylabel('Number of Establishments')\n",
    "plt.show()"
   ]
  },
  {
   "cell_type": "markdown",
   "id": "5744c86b",
   "metadata": {},
   "source": [
    "Here we see that we don't have many establishments, up to 10, when the number of seats varies, from 0 to up to 200. So basically there is no pattern that we can point to it. We only can say that chains establish up to 10 branches in LA with a variety of seats number, it can be a very small branch with 5 places to seat, and it can be a big branch with 100 seats. "
   ]
  },
  {
   "cell_type": "markdown",
   "id": "32160d39",
   "metadata": {},
   "source": [
    "**5. Determine the average number of seats for each type of restaurant. On average, which type of restaurant has the greatest number of seats? Plot\n",
    "graphs.**"
   ]
  },
  {
   "cell_type": "markdown",
   "id": "4ce191f0",
   "metadata": {},
   "source": [
    "As always, let's create the relevant data set."
   ]
  },
  {
   "cell_type": "code",
   "execution_count": 27,
   "id": "3fe1725c",
   "metadata": {},
   "outputs": [
    {
     "data": {
      "text/html": [
       "<div>\n",
       "<style scoped>\n",
       "    .dataframe tbody tr th:only-of-type {\n",
       "        vertical-align: middle;\n",
       "    }\n",
       "\n",
       "    .dataframe tbody tr th {\n",
       "        vertical-align: top;\n",
       "    }\n",
       "\n",
       "    .dataframe thead th {\n",
       "        text-align: right;\n",
       "    }\n",
       "</style>\n",
       "<table border=\"1\" class=\"dataframe\">\n",
       "  <thead>\n",
       "    <tr style=\"text-align: right;\">\n",
       "      <th></th>\n",
       "      <th>object_type</th>\n",
       "      <th>number</th>\n",
       "    </tr>\n",
       "  </thead>\n",
       "  <tbody>\n",
       "    <tr>\n",
       "      <th>0</th>\n",
       "      <td>bakery</td>\n",
       "      <td>18.0</td>\n",
       "    </tr>\n",
       "    <tr>\n",
       "      <th>1</th>\n",
       "      <td>bar</td>\n",
       "      <td>28.5</td>\n",
       "    </tr>\n",
       "    <tr>\n",
       "      <th>2</th>\n",
       "      <td>cafe</td>\n",
       "      <td>21.0</td>\n",
       "    </tr>\n",
       "    <tr>\n",
       "      <th>3</th>\n",
       "      <td>fast food</td>\n",
       "      <td>21.0</td>\n",
       "    </tr>\n",
       "    <tr>\n",
       "      <th>4</th>\n",
       "      <td>pizza</td>\n",
       "      <td>19.0</td>\n",
       "    </tr>\n",
       "    <tr>\n",
       "      <th>5</th>\n",
       "      <td>restaurant</td>\n",
       "      <td>29.0</td>\n",
       "    </tr>\n",
       "  </tbody>\n",
       "</table>\n",
       "</div>"
      ],
      "text/plain": [
       "  object_type  number\n",
       "0      bakery    18.0\n",
       "1         bar    28.5\n",
       "2        cafe    21.0\n",
       "3   fast food    21.0\n",
       "4       pizza    19.0\n",
       "5  restaurant    29.0"
      ]
     },
     "execution_count": 27,
     "metadata": {},
     "output_type": "execute_result"
    }
   ],
   "source": [
    "seats_esta = rest.groupby('object_type')['number'].median().reset_index()\n",
    "seats_esta"
   ]
  },
  {
   "cell_type": "code",
   "execution_count": 28,
   "id": "e9171deb",
   "metadata": {},
   "outputs": [
    {
     "data": {
      "image/png": "[encoded data removed]",
      "text/plain": [
       "<Figure size 1080x720 with 1 Axes>"
      ]
     },
     "metadata": {
      "needs_background": "light"
     },
     "output_type": "display_data"
    }
   ],
   "source": [
    "g=sns.catplot(x=\"object_type\", y=\"number\", kind=\"bar\", data=seats_esta)\n",
    "g.fig.set_figwidth(15)\n",
    "g.fig.set_figheight(10)\n",
    "plt.title('Average Number of Seats for Each Type of Restaurant')\n",
    "plt.xlabel('Type of Restaurant')\n",
    "plt.ylabel('Number of Seats')\n",
    "plt.show()"
   ]
  },
  {
   "cell_type": "markdown",
   "id": "cb48e76b",
   "metadata": {},
   "source": [
    "The graph tells us that restaurants and bars are the 'most seated' establishments and after them follows cafe and fast-food restaurants. This makes sense because people tend to spend more time in restaurants and bars, even if they finished eating and drinking (example - a lovely date between an in-love couple, or a very fun family meeting where all the family meets after a long time no seen). So if the restaurant and the bar want to keep the profit stable, they need more seating places, to increase the chance that there will be a table for new clients. "
   ]
  },
  {
   "cell_type": "markdown",
   "id": "6cc57aa9",
   "metadata": {},
   "source": [
    "**6. Put the data on street names from the address column in a separate column.**"
   ]
  },
  {
   "cell_type": "markdown",
   "id": "a38cc155",
   "metadata": {},
   "source": [
    "Let's build a function that does it for us with the help of usaddress library. The library is not perfect, so first, we will build a function that will locate the 'problematic' rows that don't contain streets or numbers. Then we will examine the output and decide what is the best solution."
   ]
  },
  {
   "cell_type": "code",
   "execution_count": 29,
   "id": "2c28a2c6",
   "metadata": {},
   "outputs": [],
   "source": [
    "def cleaning_check(raw):\n",
    "    raw_address=usaddress.parse(raw)\n",
    "    dict_address={}\n",
    "    for i in raw_address:\n",
    "        dict_address.update({i[1]:i[0]})\n",
    "    #this line below checks for normal case with street and number    \n",
    "    if 'StreetName' in dict_address.keys() and 'AddressNumber' in dict_address.keys():\n",
    "        clean_adress=dict_address['AddressNumber']+\",\"+str(dict_address['StreetName'])\n",
    "        return clean_adress\n",
    "    else:\n",
    "        return 'no street or number'"
   ]
  },
  {
   "cell_type": "code",
   "execution_count": 30,
   "id": "95b17c4e",
   "metadata": {},
   "outputs": [],
   "source": [
    "rest['clean_street_check']=rest.address.apply(cleaning_check)"
   ]
  },
  {
   "cell_type": "code",
   "execution_count": 31,
   "id": "ce231821",
   "metadata": {},
   "outputs": [
    {
     "data": {
      "text/html": [
       "<div>\n",
       "<style scoped>\n",
       "    .dataframe tbody tr th:only-of-type {\n",
       "        vertical-align: middle;\n",
       "    }\n",
       "\n",
       "    .dataframe tbody tr th {\n",
       "        vertical-align: top;\n",
       "    }\n",
       "\n",
       "    .dataframe thead th {\n",
       "        text-align: right;\n",
       "    }\n",
       "</style>\n",
       "<table border=\"1\" class=\"dataframe\">\n",
       "  <thead>\n",
       "    <tr style=\"text-align: right;\">\n",
       "      <th></th>\n",
       "      <th>id</th>\n",
       "      <th>object_name</th>\n",
       "      <th>address</th>\n",
       "      <th>chain</th>\n",
       "      <th>object_type</th>\n",
       "      <th>number</th>\n",
       "      <th>clean_street_check</th>\n",
       "    </tr>\n",
       "  </thead>\n",
       "  <tbody>\n",
       "    <tr>\n",
       "      <th>1888</th>\n",
       "      <td>13674</td>\n",
       "      <td>magdaleno debbie</td>\n",
       "      <td>olvera st e17</td>\n",
       "      <td>False</td>\n",
       "      <td>restaurant</td>\n",
       "      <td>15</td>\n",
       "      <td>no street or number</td>\n",
       "    </tr>\n",
       "    <tr>\n",
       "      <th>3719</th>\n",
       "      <td>15505</td>\n",
       "      <td>las anitas</td>\n",
       "      <td>olvera st 26</td>\n",
       "      <td>False</td>\n",
       "      <td>restaurant</td>\n",
       "      <td>38</td>\n",
       "      <td>no street or number</td>\n",
       "    </tr>\n",
       "    <tr>\n",
       "      <th>7003</th>\n",
       "      <td>18789</td>\n",
       "      <td>d.k. donuts</td>\n",
       "      <td>1033 1/2 los angeles st</td>\n",
       "      <td>False</td>\n",
       "      <td>fast food</td>\n",
       "      <td>8</td>\n",
       "      <td>no street or number</td>\n",
       "    </tr>\n",
       "    <tr>\n",
       "      <th>7281</th>\n",
       "      <td>19067</td>\n",
       "      <td>cielito lindo</td>\n",
       "      <td>olvera st 23</td>\n",
       "      <td>False</td>\n",
       "      <td>restaurant</td>\n",
       "      <td>2</td>\n",
       "      <td>no street or number</td>\n",
       "    </tr>\n",
       "    <tr>\n",
       "      <th>7319</th>\n",
       "      <td>19105</td>\n",
       "      <td>juanita's cafe</td>\n",
       "      <td>olvera st 20</td>\n",
       "      <td>False</td>\n",
       "      <td>restaurant</td>\n",
       "      <td>12</td>\n",
       "      <td>no street or number</td>\n",
       "    </tr>\n",
       "    <tr>\n",
       "      <th>7321</th>\n",
       "      <td>19107</td>\n",
       "      <td>kitty's snow cones</td>\n",
       "      <td>olvera st 2</td>\n",
       "      <td>False</td>\n",
       "      <td>restaurant</td>\n",
       "      <td>11</td>\n",
       "      <td>no street or number</td>\n",
       "    </tr>\n",
       "    <tr>\n",
       "      <th>7327</th>\n",
       "      <td>19113</td>\n",
       "      <td>la noche buena</td>\n",
       "      <td>olvera st e8</td>\n",
       "      <td>False</td>\n",
       "      <td>restaurant</td>\n",
       "      <td>1</td>\n",
       "      <td>no street or number</td>\n",
       "    </tr>\n",
       "    <tr>\n",
       "      <th>7438</th>\n",
       "      <td>19224</td>\n",
       "      <td>la golondrina</td>\n",
       "      <td>olvera st w17</td>\n",
       "      <td>False</td>\n",
       "      <td>restaurant</td>\n",
       "      <td>204</td>\n",
       "      <td>no street or number</td>\n",
       "    </tr>\n",
       "    <tr>\n",
       "      <th>7741</th>\n",
       "      <td>19527</td>\n",
       "      <td>rodolfo's restaurant</td>\n",
       "      <td>olvera st 5</td>\n",
       "      <td>True</td>\n",
       "      <td>restaurant</td>\n",
       "      <td>4</td>\n",
       "      <td>no street or number</td>\n",
       "    </tr>\n",
       "  </tbody>\n",
       "</table>\n",
       "</div>"
      ],
      "text/plain": [
       "         id           object_name                  address  chain object_type  \\\n",
       "1888  13674      magdaleno debbie            olvera st e17  False  restaurant   \n",
       "3719  15505            las anitas             olvera st 26  False  restaurant   \n",
       "7003  18789           d.k. donuts  1033 1/2 los angeles st  False   fast food   \n",
       "7281  19067         cielito lindo             olvera st 23  False  restaurant   \n",
       "7319  19105        juanita's cafe             olvera st 20  False  restaurant   \n",
       "7321  19107    kitty's snow cones              olvera st 2  False  restaurant   \n",
       "7327  19113        la noche buena             olvera st e8  False  restaurant   \n",
       "7438  19224         la golondrina            olvera st w17  False  restaurant   \n",
       "7741  19527  rodolfo's restaurant              olvera st 5   True  restaurant   \n",
       "\n",
       "      number   clean_street_check  \n",
       "1888      15  no street or number  \n",
       "3719      38  no street or number  \n",
       "7003       8  no street or number  \n",
       "7281       2  no street or number  \n",
       "7319      12  no street or number  \n",
       "7321      11  no street or number  \n",
       "7327       1  no street or number  \n",
       "7438     204  no street or number  \n",
       "7741       4  no street or number  "
      ]
     },
     "execution_count": 31,
     "metadata": {},
     "output_type": "execute_result"
    }
   ],
   "source": [
    "rest[rest['clean_street_check']=='no street or number']\n"
   ]
  },
  {
   "cell_type": "markdown",
   "id": "e5fac983",
   "metadata": {},
   "source": [
    "It's our lucky day!\n",
    "\n",
    "It's only 2 streets: olvera st and 1033 1/2 los angeles st. "
   ]
  },
  {
   "cell_type": "code",
   "execution_count": 32,
   "id": "e74e4afc",
   "metadata": {},
   "outputs": [
    {
     "data": {
      "text/plain": [
       "[('olvera', 'PlaceName'), ('st', 'StateName'), ('e17', 'ZipCode')]"
      ]
     },
     "execution_count": 32,
     "metadata": {},
     "output_type": "execute_result"
    }
   ],
   "source": [
    "usaddress.parse(rest.iloc[1888]['address'])"
   ]
  },
  {
   "cell_type": "markdown",
   "id": "047a141e",
   "metadata": {},
   "source": [
    "o.k!\n",
    "\n",
    "The library treats olevera as PlaceName and not as a street name. We will take care of it in the function. "
   ]
  },
  {
   "cell_type": "code",
   "execution_count": 33,
   "id": "1ec9a4f5",
   "metadata": {},
   "outputs": [],
   "source": [
    "def cleaning_final(raw):\n",
    "    if raw.startswith('olvera'):\n",
    "        clean_adress='olvera,los angeles,usa'\n",
    "    elif raw.startswith('1033 1/2 los angeles'):\n",
    "        clean_adress='los angeles st,los angeles,usa'\n",
    "    else:\n",
    "        raw_address=usaddress.parse(raw)\n",
    "        dict_address={}\n",
    "        for i in raw_address:\n",
    "            dict_address.update({i[1]:i[0]})\n",
    "        clean_adress=str(dict_address['StreetName'])+str(', Los Angeles,USA')\n",
    "    return clean_adress"
   ]
  },
  {
   "cell_type": "code",
   "execution_count": 34,
   "id": "851a9144",
   "metadata": {},
   "outputs": [
    {
     "data": {
      "text/html": [
       "<div>\n",
       "<style scoped>\n",
       "    .dataframe tbody tr th:only-of-type {\n",
       "        vertical-align: middle;\n",
       "    }\n",
       "\n",
       "    .dataframe tbody tr th {\n",
       "        vertical-align: top;\n",
       "    }\n",
       "\n",
       "    .dataframe thead th {\n",
       "        text-align: right;\n",
       "    }\n",
       "</style>\n",
       "<table border=\"1\" class=\"dataframe\">\n",
       "  <thead>\n",
       "    <tr style=\"text-align: right;\">\n",
       "      <th></th>\n",
       "      <th>id</th>\n",
       "      <th>object_name</th>\n",
       "      <th>address</th>\n",
       "      <th>chain</th>\n",
       "      <th>object_type</th>\n",
       "      <th>number</th>\n",
       "      <th>clean_street_check</th>\n",
       "      <th>clean_street_final</th>\n",
       "    </tr>\n",
       "  </thead>\n",
       "  <tbody>\n",
       "    <tr>\n",
       "      <th>7292</th>\n",
       "      <td>19078</td>\n",
       "      <td>giggles \"n\" hugs</td>\n",
       "      <td>10250 santa monica blvd ste #155</td>\n",
       "      <td>False</td>\n",
       "      <td>restaurant</td>\n",
       "      <td>87</td>\n",
       "      <td>10250,monica</td>\n",
       "      <td>monica, Los Angeles,USA</td>\n",
       "    </tr>\n",
       "    <tr>\n",
       "      <th>9305</th>\n",
       "      <td>21091</td>\n",
       "      <td>the coffee bean &amp; tea leaf</td>\n",
       "      <td>500 world way t5</td>\n",
       "      <td>True</td>\n",
       "      <td>cafe</td>\n",
       "      <td>21</td>\n",
       "      <td>500,world</td>\n",
       "      <td>world, Los Angeles,USA</td>\n",
       "    </tr>\n",
       "    <tr>\n",
       "      <th>9534</th>\n",
       "      <td>21320</td>\n",
       "      <td>vermont music studio</td>\n",
       "      <td>191 s vermont ave</td>\n",
       "      <td>False</td>\n",
       "      <td>restaurant</td>\n",
       "      <td>8</td>\n",
       "      <td>191,vermont</td>\n",
       "      <td>vermont, Los Angeles,USA</td>\n",
       "    </tr>\n",
       "    <tr>\n",
       "      <th>8173</th>\n",
       "      <td>19959</td>\n",
       "      <td>coffee bean &amp; tea leaf</td>\n",
       "      <td>600 world way #6</td>\n",
       "      <td>True</td>\n",
       "      <td>cafe</td>\n",
       "      <td>11</td>\n",
       "      <td>600,world</td>\n",
       "      <td>world, Los Angeles,USA</td>\n",
       "    </tr>\n",
       "    <tr>\n",
       "      <th>4979</th>\n",
       "      <td>16765</td>\n",
       "      <td>fred  jordan mission</td>\n",
       "      <td>445 towne ave</td>\n",
       "      <td>False</td>\n",
       "      <td>restaurant</td>\n",
       "      <td>116</td>\n",
       "      <td>445,towne</td>\n",
       "      <td>towne, Los Angeles,USA</td>\n",
       "    </tr>\n",
       "    <tr>\n",
       "      <th>511</th>\n",
       "      <td>12297</td>\n",
       "      <td>bonaventure bake shop</td>\n",
       "      <td>404 s figueroa st</td>\n",
       "      <td>False</td>\n",
       "      <td>restaurant</td>\n",
       "      <td>26</td>\n",
       "      <td>404,figueroa</td>\n",
       "      <td>figueroa, Los Angeles,USA</td>\n",
       "    </tr>\n",
       "    <tr>\n",
       "      <th>5843</th>\n",
       "      <td>17629</td>\n",
       "      <td>penthouse lounge</td>\n",
       "      <td>1347 s atlantic blvd</td>\n",
       "      <td>False</td>\n",
       "      <td>restaurant</td>\n",
       "      <td>81</td>\n",
       "      <td>1347,atlantic</td>\n",
       "      <td>atlantic, Los Angeles,USA</td>\n",
       "    </tr>\n",
       "    <tr>\n",
       "      <th>5307</th>\n",
       "      <td>17093</td>\n",
       "      <td>vaka burger express</td>\n",
       "      <td>2765 e olympic blvd</td>\n",
       "      <td>False</td>\n",
       "      <td>fast food</td>\n",
       "      <td>14</td>\n",
       "      <td>2765,olympic</td>\n",
       "      <td>olympic, Los Angeles,USA</td>\n",
       "    </tr>\n",
       "    <tr>\n",
       "      <th>1691</th>\n",
       "      <td>13477</td>\n",
       "      <td>don carlos village restaurant</td>\n",
       "      <td>2046 w pico blvd</td>\n",
       "      <td>True</td>\n",
       "      <td>restaurant</td>\n",
       "      <td>68</td>\n",
       "      <td>2046,pico</td>\n",
       "      <td>pico, Los Angeles,USA</td>\n",
       "    </tr>\n",
       "    <tr>\n",
       "      <th>8744</th>\n",
       "      <td>20530</td>\n",
       "      <td>subway #24017</td>\n",
       "      <td>1821 e cesar e chavez st</td>\n",
       "      <td>True</td>\n",
       "      <td>fast food</td>\n",
       "      <td>18</td>\n",
       "      <td>1821,cesar</td>\n",
       "      <td>cesar, Los Angeles,USA</td>\n",
       "    </tr>\n",
       "  </tbody>\n",
       "</table>\n",
       "</div>"
      ],
      "text/plain": [
       "         id                    object_name                           address  \\\n",
       "7292  19078               giggles \"n\" hugs  10250 santa monica blvd ste #155   \n",
       "9305  21091     the coffee bean & tea leaf                  500 world way t5   \n",
       "9534  21320           vermont music studio                 191 s vermont ave   \n",
       "8173  19959         coffee bean & tea leaf                  600 world way #6   \n",
       "4979  16765           fred  jordan mission                     445 towne ave   \n",
       "511   12297          bonaventure bake shop                 404 s figueroa st   \n",
       "5843  17629               penthouse lounge              1347 s atlantic blvd   \n",
       "5307  17093            vaka burger express               2765 e olympic blvd   \n",
       "1691  13477  don carlos village restaurant                  2046 w pico blvd   \n",
       "8744  20530                  subway #24017          1821 e cesar e chavez st   \n",
       "\n",
       "      chain object_type  number clean_street_check         clean_street_final  \n",
       "7292  False  restaurant      87       10250,monica    monica, Los Angeles,USA  \n",
       "9305   True        cafe      21          500,world     world, Los Angeles,USA  \n",
       "9534  False  restaurant       8        191,vermont   vermont, Los Angeles,USA  \n",
       "8173   True        cafe      11          600,world     world, Los Angeles,USA  \n",
       "4979  False  restaurant     116          445,towne     towne, Los Angeles,USA  \n",
       "511   False  restaurant      26       404,figueroa  figueroa, Los Angeles,USA  \n",
       "5843  False  restaurant      81      1347,atlantic  atlantic, Los Angeles,USA  \n",
       "5307  False   fast food      14       2765,olympic   olympic, Los Angeles,USA  \n",
       "1691   True  restaurant      68          2046,pico      pico, Los Angeles,USA  \n",
       "8744   True   fast food      18         1821,cesar     cesar, Los Angeles,USA  "
      ]
     },
     "execution_count": 34,
     "metadata": {},
     "output_type": "execute_result"
    }
   ],
   "source": [
    "rest['clean_street_final']=rest.address.apply(cleaning_final)\n",
    "rest.sample(10)"
   ]
  },
  {
   "cell_type": "markdown",
   "id": "4453ef68",
   "metadata": {},
   "source": [
    "Yay!\n",
    "\n",
    "We managed to put the street names from the address column in a separate column. "
   ]
  },
  {
   "cell_type": "markdown",
   "id": "0c9aa448",
   "metadata": {},
   "source": [
    "**7. Plot a graph of the top ten streets by number of restaurants.**"
   ]
  },
  {
   "cell_type": "markdown",
   "id": "d0ccf41a",
   "metadata": {},
   "source": [
    "As we always do, first let's create the relevant data set."
   ]
  },
  {
   "cell_type": "code",
   "execution_count": 35,
   "id": "86332b27",
   "metadata": {},
   "outputs": [
    {
     "data": {
      "text/html": [
       "<div>\n",
       "<style scoped>\n",
       "    .dataframe tbody tr th:only-of-type {\n",
       "        vertical-align: middle;\n",
       "    }\n",
       "\n",
       "    .dataframe tbody tr th {\n",
       "        vertical-align: top;\n",
       "    }\n",
       "\n",
       "    .dataframe thead th {\n",
       "        text-align: right;\n",
       "    }\n",
       "</style>\n",
       "<table border=\"1\" class=\"dataframe\">\n",
       "  <thead>\n",
       "    <tr style=\"text-align: right;\">\n",
       "      <th></th>\n",
       "      <th>street</th>\n",
       "      <th>num_rest</th>\n",
       "    </tr>\n",
       "  </thead>\n",
       "  <tbody>\n",
       "    <tr>\n",
       "      <th>388</th>\n",
       "      <td>sunset, Los Angeles,USA</td>\n",
       "      <td>405</td>\n",
       "    </tr>\n",
       "    <tr>\n",
       "      <th>439</th>\n",
       "      <td>wilshire, Los Angeles,USA</td>\n",
       "      <td>398</td>\n",
       "    </tr>\n",
       "    <tr>\n",
       "      <th>336</th>\n",
       "      <td>pico, Los Angeles,USA</td>\n",
       "      <td>371</td>\n",
       "    </tr>\n",
       "    <tr>\n",
       "      <th>431</th>\n",
       "      <td>western, Los Angeles,USA</td>\n",
       "      <td>369</td>\n",
       "    </tr>\n",
       "    <tr>\n",
       "      <th>174</th>\n",
       "      <td>figueroa, Los Angeles,USA</td>\n",
       "      <td>334</td>\n",
       "    </tr>\n",
       "    <tr>\n",
       "      <th>320</th>\n",
       "      <td>olympic, Los Angeles,USA</td>\n",
       "      <td>309</td>\n",
       "    </tr>\n",
       "    <tr>\n",
       "      <th>409</th>\n",
       "      <td>vermont, Los Angeles,USA</td>\n",
       "      <td>288</td>\n",
       "    </tr>\n",
       "    <tr>\n",
       "      <th>296</th>\n",
       "      <td>monica, Los Angeles,USA</td>\n",
       "      <td>264</td>\n",
       "    </tr>\n",
       "    <tr>\n",
       "      <th>22</th>\n",
       "      <td>3rd, Los Angeles,USA</td>\n",
       "      <td>262</td>\n",
       "    </tr>\n",
       "    <tr>\n",
       "      <th>221</th>\n",
       "      <td>hollywood, Los Angeles,USA</td>\n",
       "      <td>254</td>\n",
       "    </tr>\n",
       "  </tbody>\n",
       "</table>\n",
       "</div>"
      ],
      "text/plain": [
       "                         street  num_rest\n",
       "388     sunset, Los Angeles,USA       405\n",
       "439   wilshire, Los Angeles,USA       398\n",
       "336       pico, Los Angeles,USA       371\n",
       "431    western, Los Angeles,USA       369\n",
       "174   figueroa, Los Angeles,USA       334\n",
       "320    olympic, Los Angeles,USA       309\n",
       "409    vermont, Los Angeles,USA       288\n",
       "296     monica, Los Angeles,USA       264\n",
       "22         3rd, Los Angeles,USA       262\n",
       "221  hollywood, Los Angeles,USA       254"
      ]
     },
     "execution_count": 35,
     "metadata": {},
     "output_type": "execute_result"
    }
   ],
   "source": [
    "street_rest = rest.groupby('clean_street_final')['object_name'].count().reset_index()\n",
    "street_rest.columns = ['street', 'num_rest']\n",
    "top_ten_street = street_rest.sort_values(by = 'num_rest', ascending = False).head(10)\n",
    "top_ten_street"
   ]
  },
  {
   "cell_type": "code",
   "execution_count": 36,
   "id": "c8b96ba2",
   "metadata": {},
   "outputs": [
    {
     "data": {
      "image/png": "[encoded data removed]",
      "text/plain": [
       "<Figure size 1080x720 with 1 Axes>"
      ]
     },
     "metadata": {
      "needs_background": "light"
     },
     "output_type": "display_data"
    }
   ],
   "source": [
    "g= sns.catplot(x=\"street\", y=\"num_rest\", kind=\"bar\", data=top_ten_street)\n",
    "g.fig.set_figwidth(15)\n",
    "g.fig.set_figheight(10)\n",
    "plt.title('Top Ten Streets by Number of Restaurants')\n",
    "plt.xlabel('Street')\n",
    "plt.ylabel('Number of Restaurants')\n",
    "locs, labels = plt.xticks()\n",
    "plt.setp(labels, rotation=45)\n",
    "plt.show()"
   ]
  },
  {
   "cell_type": "markdown",
   "id": "34b6c382",
   "metadata": {},
   "source": [
    "The graph shows us that Sunset street and Wilshire street are the 2 leading streets that have the largest amount of restaurants. \n",
    "\n",
    "Sunset street and Wilshire street seem to be the most popular and demanded places in LA to open a restaurant. Maybe these streets have very good urban characteristics which attract the food industry to them. If I wanted to open a restaurant, these 2 streets definitely were my 2 leading places to do so."
   ]
  },
  {
   "cell_type": "markdown",
   "id": "de20f94c",
   "metadata": {},
   "source": [
    "**8. Find the number of streets that only have one restaurant.**"
   ]
  },
  {
   "cell_type": "markdown",
   "id": "4a5f39f9",
   "metadata": {},
   "source": [
    "To answer this question we will use one of the data sets that we built in the previous step."
   ]
  },
  {
   "cell_type": "code",
   "execution_count": 37,
   "id": "15157145",
   "metadata": {},
   "outputs": [
    {
     "name": "stdout",
     "output_type": "stream",
     "text": [
      "Number of streets that only have one restaurant: 179\n",
      "Total number of streets that have restaurants: 453\n",
      "Percentage of st. with one restaurant of total st. with restaurants:39.51%\n"
     ]
    }
   ],
   "source": [
    "one_rest = len(street_rest.query('num_rest == 1'))\n",
    "total_rest = len(street_rest)\n",
    "perce = one_rest/total_rest\n",
    "print('Number of streets that only have one restaurant:', one_rest)\n",
    "print('Total number of streets that have restaurants:', total_rest)\n",
    "print('Percentage of st. with one restaurant of total st. with restaurants:{:.2%}'.format(perce))"
   ]
  },
  {
   "cell_type": "markdown",
   "id": "e1101e9a",
   "metadata": {},
   "source": [
    "So here we see that 179 streets have only one restaurant, which is 39.51% of the total amount of streets that have restaurants. Most of the streets in LA have 2 or more restaurants - that's excellent!. "
   ]
  },
  {
   "cell_type": "markdown",
   "id": "a7fc8b09",
   "metadata": {},
   "source": [
    "**9. For streets with a lot of restaurants, look at the distribution of the number\n",
    "of seats. What trends can you see?**"
   ]
  },
  {
   "cell_type": "markdown",
   "id": "5261d6ea",
   "metadata": {},
   "source": [
    "First, like always, let's build the right data set."
   ]
  },
  {
   "cell_type": "code",
   "execution_count": 38,
   "id": "8ade7300",
   "metadata": {
    "scrolled": true
   },
   "outputs": [
    {
     "data": {
      "text/html": [
       "<div>\n",
       "<style scoped>\n",
       "    .dataframe tbody tr th:only-of-type {\n",
       "        vertical-align: middle;\n",
       "    }\n",
       "\n",
       "    .dataframe tbody tr th {\n",
       "        vertical-align: top;\n",
       "    }\n",
       "\n",
       "    .dataframe thead th {\n",
       "        text-align: right;\n",
       "    }\n",
       "</style>\n",
       "<table border=\"1\" class=\"dataframe\">\n",
       "  <thead>\n",
       "    <tr style=\"text-align: right;\">\n",
       "      <th></th>\n",
       "      <th>id</th>\n",
       "      <th>object_name</th>\n",
       "      <th>address</th>\n",
       "      <th>chain</th>\n",
       "      <th>object_type</th>\n",
       "      <th>number</th>\n",
       "      <th>clean_street_check</th>\n",
       "      <th>clean_street_final</th>\n",
       "    </tr>\n",
       "  </thead>\n",
       "  <tbody>\n",
       "    <tr>\n",
       "      <th>2</th>\n",
       "      <td>11788</td>\n",
       "      <td>street churros</td>\n",
       "      <td>6801 hollywood blvd # 253</td>\n",
       "      <td>False</td>\n",
       "      <td>fast food</td>\n",
       "      <td>20</td>\n",
       "      <td>6801,hollywood</td>\n",
       "      <td>hollywood, Los Angeles,USA</td>\n",
       "    </tr>\n",
       "    <tr>\n",
       "      <th>3</th>\n",
       "      <td>11789</td>\n",
       "      <td>triniti echo park</td>\n",
       "      <td>1814 w sunset blvd</td>\n",
       "      <td>False</td>\n",
       "      <td>restaurant</td>\n",
       "      <td>22</td>\n",
       "      <td>1814,sunset</td>\n",
       "      <td>sunset, Los Angeles,USA</td>\n",
       "    </tr>\n",
       "    <tr>\n",
       "      <th>10</th>\n",
       "      <td>11796</td>\n",
       "      <td>el pollo loco</td>\n",
       "      <td>5319 w sunset blvd</td>\n",
       "      <td>True</td>\n",
       "      <td>restaurant</td>\n",
       "      <td>38</td>\n",
       "      <td>5319,sunset</td>\n",
       "      <td>sunset, Los Angeles,USA</td>\n",
       "    </tr>\n",
       "    <tr>\n",
       "      <th>11</th>\n",
       "      <td>11797</td>\n",
       "      <td>poong nyun bakery</td>\n",
       "      <td>928 s western ave ste 109</td>\n",
       "      <td>True</td>\n",
       "      <td>bakery</td>\n",
       "      <td>17</td>\n",
       "      <td>928,western</td>\n",
       "      <td>western, Los Angeles,USA</td>\n",
       "    </tr>\n",
       "    <tr>\n",
       "      <th>14</th>\n",
       "      <td>11800</td>\n",
       "      <td>cuscatleca bakery</td>\n",
       "      <td>2501 w sunset blvd #a</td>\n",
       "      <td>True</td>\n",
       "      <td>bakery</td>\n",
       "      <td>26</td>\n",
       "      <td>2501,sunset</td>\n",
       "      <td>sunset, Los Angeles,USA</td>\n",
       "    </tr>\n",
       "  </tbody>\n",
       "</table>\n",
       "</div>"
      ],
      "text/plain": [
       "       id        object_name                    address  chain object_type  \\\n",
       "2   11788     street churros  6801 hollywood blvd # 253  False   fast food   \n",
       "3   11789  triniti echo park         1814 w sunset blvd  False  restaurant   \n",
       "10  11796      el pollo loco         5319 w sunset blvd   True  restaurant   \n",
       "11  11797  poong nyun bakery  928 s western ave ste 109   True      bakery   \n",
       "14  11800  cuscatleca bakery      2501 w sunset blvd #a   True      bakery   \n",
       "\n",
       "    number clean_street_check          clean_street_final  \n",
       "2       20     6801,hollywood  hollywood, Los Angeles,USA  \n",
       "3       22        1814,sunset     sunset, Los Angeles,USA  \n",
       "10      38        5319,sunset     sunset, Los Angeles,USA  \n",
       "11      17        928,western    western, Los Angeles,USA  \n",
       "14      26        2501,sunset     sunset, Los Angeles,USA  "
      ]
     },
     "execution_count": 38,
     "metadata": {},
     "output_type": "execute_result"
    }
   ],
   "source": [
    "top_rest_seat = rest[rest['clean_street_final'].isin(top_ten_street['street'])]\n",
    "top_rest_seat.head()"
   ]
  },
  {
   "cell_type": "code",
   "execution_count": 39,
   "id": "972c033d",
   "metadata": {},
   "outputs": [
    {
     "data": {
      "image/png": "[encoded data removed]",
      "text/plain": [
       "<Figure size 432x288 with 1 Axes>"
      ]
     },
     "metadata": {
      "needs_background": "light"
     },
     "output_type": "display_data"
    }
   ],
   "source": [
    "sns.histplot(data=top_rest_seat, x=\"number\", kde=True)\n",
    "plt.title('Distribution of the Number of Seats for Streets With A Lot of Restaurants')\n",
    "plt.xlabel('Seats')\n",
    "plt.show()"
   ]
  },
  {
   "cell_type": "markdown",
   "id": "0ab77b6d",
   "metadata": {},
   "source": [
    "Let's calculate the average number of seats in the most popular streets. The histogram shows us that there are outliers which means that they are pooling the mean up. So, the right metric to use for calculating the average seat number is the median which is resistant to outliers."
   ]
  },
  {
   "cell_type": "code",
   "execution_count": 40,
   "id": "e0bdd544",
   "metadata": {},
   "outputs": [
    {
     "name": "stdout",
     "output_type": "stream",
     "text": [
      "The average seat number of the most popular streets: 29.0\n"
     ]
    }
   ],
   "source": [
    "median_top_rest_seat = top_rest_seat.number.median()\n",
    "print('The average seat number of the most popular streets:', median_top_rest_seat)"
   ]
  },
  {
   "cell_type": "code",
   "execution_count": 41,
   "id": "9fe5333f",
   "metadata": {},
   "outputs": [
    {
     "data": {
      "text/plain": [
       "45.584204056545786"
      ]
     },
     "execution_count": 41,
     "metadata": {},
     "output_type": "execute_result"
    }
   ],
   "source": [
    "top_rest_seat.number.mean()"
   ]
  },
  {
   "cell_type": "markdown",
   "id": "5cae6a14",
   "metadata": {},
   "source": [
    "The mean and the median vary significantly. This makes sense due to the outliers that we saw in the histogram earlier. \n",
    "\n",
    "Let's remove the outliers and plot a new histogram and calculate the mean and median again with the clean data."
   ]
  },
  {
   "cell_type": "code",
   "execution_count": 42,
   "id": "8bfdb782",
   "metadata": {},
   "outputs": [
    {
     "data": {
      "text/html": [
       "<div>\n",
       "<style scoped>\n",
       "    .dataframe tbody tr th:only-of-type {\n",
       "        vertical-align: middle;\n",
       "    }\n",
       "\n",
       "    .dataframe tbody tr th {\n",
       "        vertical-align: top;\n",
       "    }\n",
       "\n",
       "    .dataframe thead th {\n",
       "        text-align: right;\n",
       "    }\n",
       "</style>\n",
       "<table border=\"1\" class=\"dataframe\">\n",
       "  <thead>\n",
       "    <tr style=\"text-align: right;\">\n",
       "      <th></th>\n",
       "      <th>id</th>\n",
       "      <th>object_name</th>\n",
       "      <th>address</th>\n",
       "      <th>chain</th>\n",
       "      <th>object_type</th>\n",
       "      <th>number</th>\n",
       "      <th>clean_street_check</th>\n",
       "      <th>clean_street_final</th>\n",
       "    </tr>\n",
       "  </thead>\n",
       "  <tbody>\n",
       "    <tr>\n",
       "      <th>2</th>\n",
       "      <td>11788</td>\n",
       "      <td>street churros</td>\n",
       "      <td>6801 hollywood blvd # 253</td>\n",
       "      <td>False</td>\n",
       "      <td>fast food</td>\n",
       "      <td>20</td>\n",
       "      <td>6801,hollywood</td>\n",
       "      <td>hollywood, Los Angeles,USA</td>\n",
       "    </tr>\n",
       "    <tr>\n",
       "      <th>3</th>\n",
       "      <td>11789</td>\n",
       "      <td>triniti echo park</td>\n",
       "      <td>1814 w sunset blvd</td>\n",
       "      <td>False</td>\n",
       "      <td>restaurant</td>\n",
       "      <td>22</td>\n",
       "      <td>1814,sunset</td>\n",
       "      <td>sunset, Los Angeles,USA</td>\n",
       "    </tr>\n",
       "    <tr>\n",
       "      <th>10</th>\n",
       "      <td>11796</td>\n",
       "      <td>el pollo loco</td>\n",
       "      <td>5319 w sunset blvd</td>\n",
       "      <td>True</td>\n",
       "      <td>restaurant</td>\n",
       "      <td>38</td>\n",
       "      <td>5319,sunset</td>\n",
       "      <td>sunset, Los Angeles,USA</td>\n",
       "    </tr>\n",
       "    <tr>\n",
       "      <th>11</th>\n",
       "      <td>11797</td>\n",
       "      <td>poong nyun bakery</td>\n",
       "      <td>928 s western ave ste 109</td>\n",
       "      <td>True</td>\n",
       "      <td>bakery</td>\n",
       "      <td>17</td>\n",
       "      <td>928,western</td>\n",
       "      <td>western, Los Angeles,USA</td>\n",
       "    </tr>\n",
       "    <tr>\n",
       "      <th>14</th>\n",
       "      <td>11800</td>\n",
       "      <td>cuscatleca bakery</td>\n",
       "      <td>2501 w sunset blvd #a</td>\n",
       "      <td>True</td>\n",
       "      <td>bakery</td>\n",
       "      <td>26</td>\n",
       "      <td>2501,sunset</td>\n",
       "      <td>sunset, Los Angeles,USA</td>\n",
       "    </tr>\n",
       "  </tbody>\n",
       "</table>\n",
       "</div>"
      ],
      "text/plain": [
       "       id        object_name                    address  chain object_type  \\\n",
       "2   11788     street churros  6801 hollywood blvd # 253  False   fast food   \n",
       "3   11789  triniti echo park         1814 w sunset blvd  False  restaurant   \n",
       "10  11796      el pollo loco         5319 w sunset blvd   True  restaurant   \n",
       "11  11797  poong nyun bakery  928 s western ave ste 109   True      bakery   \n",
       "14  11800  cuscatleca bakery      2501 w sunset blvd #a   True      bakery   \n",
       "\n",
       "    number clean_street_check          clean_street_final  \n",
       "2       20     6801,hollywood  hollywood, Los Angeles,USA  \n",
       "3       22        1814,sunset     sunset, Los Angeles,USA  \n",
       "10      38        5319,sunset     sunset, Los Angeles,USA  \n",
       "11      17        928,western    western, Los Angeles,USA  \n",
       "14      26        2501,sunset     sunset, Los Angeles,USA  "
      ]
     },
     "execution_count": 42,
     "metadata": {},
     "output_type": "execute_result"
    }
   ],
   "source": [
    "top_rest_seat_clean = top_rest_seat.query('number <=50')\n",
    "top_rest_seat_clean.head()"
   ]
  },
  {
   "cell_type": "code",
   "execution_count": 43,
   "id": "b69d3131",
   "metadata": {},
   "outputs": [
    {
     "data": {
      "image/png": "[encoded data removed]",
      "text/plain": [
       "<Figure size 432x288 with 1 Axes>"
      ]
     },
     "metadata": {
      "needs_background": "light"
     },
     "output_type": "display_data"
    }
   ],
   "source": [
    "sns.histplot(data=top_rest_seat_clean, x=\"number\", kde=True)\n",
    "plt.title('Distribution of the Number of Seats for Streets With A Lot of Restaurants - Clean Data')\n",
    "plt.xlabel('Seats')\n",
    "plt.show()"
   ]
  },
  {
   "cell_type": "code",
   "execution_count": 44,
   "id": "97b766b8",
   "metadata": {},
   "outputs": [
    {
     "name": "stdout",
     "output_type": "stream",
     "text": [
      "The median seat number of the most popular streets: 23.0\n"
     ]
    }
   ],
   "source": [
    "median_top_rest_seat_clean = top_rest_seat_clean.number.median()\n",
    "print('The median seat number of the most popular streets:', median_top_rest_seat_clean)"
   ]
  },
  {
   "cell_type": "code",
   "execution_count": 45,
   "id": "62585d9c",
   "metadata": {},
   "outputs": [
    {
     "name": "stdout",
     "output_type": "stream",
     "text": [
      "The mean seat number of the most popular streets: 23.749411764705883\n"
     ]
    }
   ],
   "source": [
    "mean_top_rest_seat_clean=top_rest_seat_clean.number.mean()\n",
    "print('The mean seat number of the most popular streets:', mean_top_rest_seat_clean)"
   ]
  },
  {
   "cell_type": "markdown",
   "id": "0d41c7cf",
   "metadata": {},
   "source": [
    "Yay!\n",
    "\n",
    "After removing the outliers we got mean and median that are very close one to another - That's great! It means that the clean data that we got now is not skewed."
   ]
  },
  {
   "cell_type": "markdown",
   "id": "37b28406",
   "metadata": {},
   "source": [
    "The histogram tells us that most of the restaurants in streets with a lot of restaurants have only up to 40-50 seats. Only small numbers have 50 seats and above. That makes sense because probably the rent in these streets is very expensive, so most of the owners can't afford big restaurants. Also, maybe the municipality has a policy of small restaurants in these popular streets, so more people will have the chance to open a restaurant there."
   ]
  },
  {
   "cell_type": "markdown",
   "id": "cf491f5c",
   "metadata": {},
   "source": [
    "Just for curiosity, let's check the distribution in the 2 most popular streets."
   ]
  },
  {
   "cell_type": "code",
   "execution_count": 46,
   "id": "19fb9c2c",
   "metadata": {},
   "outputs": [
    {
     "data": {
      "text/html": [
       "<div>\n",
       "<style scoped>\n",
       "    .dataframe tbody tr th:only-of-type {\n",
       "        vertical-align: middle;\n",
       "    }\n",
       "\n",
       "    .dataframe tbody tr th {\n",
       "        vertical-align: top;\n",
       "    }\n",
       "\n",
       "    .dataframe thead th {\n",
       "        text-align: right;\n",
       "    }\n",
       "</style>\n",
       "<table border=\"1\" class=\"dataframe\">\n",
       "  <thead>\n",
       "    <tr style=\"text-align: right;\">\n",
       "      <th></th>\n",
       "      <th>id</th>\n",
       "      <th>object_name</th>\n",
       "      <th>address</th>\n",
       "      <th>chain</th>\n",
       "      <th>object_type</th>\n",
       "      <th>number</th>\n",
       "      <th>clean_street_check</th>\n",
       "      <th>clean_street_final</th>\n",
       "    </tr>\n",
       "  </thead>\n",
       "  <tbody>\n",
       "    <tr>\n",
       "      <th>3</th>\n",
       "      <td>11789</td>\n",
       "      <td>triniti echo park</td>\n",
       "      <td>1814 w sunset blvd</td>\n",
       "      <td>False</td>\n",
       "      <td>restaurant</td>\n",
       "      <td>22</td>\n",
       "      <td>1814,sunset</td>\n",
       "      <td>sunset, Los Angeles,USA</td>\n",
       "    </tr>\n",
       "    <tr>\n",
       "      <th>10</th>\n",
       "      <td>11796</td>\n",
       "      <td>el pollo loco</td>\n",
       "      <td>5319 w sunset blvd</td>\n",
       "      <td>True</td>\n",
       "      <td>restaurant</td>\n",
       "      <td>38</td>\n",
       "      <td>5319,sunset</td>\n",
       "      <td>sunset, Los Angeles,USA</td>\n",
       "    </tr>\n",
       "    <tr>\n",
       "      <th>14</th>\n",
       "      <td>11800</td>\n",
       "      <td>cuscatleca bakery</td>\n",
       "      <td>2501 w sunset blvd #a</td>\n",
       "      <td>True</td>\n",
       "      <td>bakery</td>\n",
       "      <td>26</td>\n",
       "      <td>2501,sunset</td>\n",
       "      <td>sunset, Los Angeles,USA</td>\n",
       "    </tr>\n",
       "    <tr>\n",
       "      <th>22</th>\n",
       "      <td>11808</td>\n",
       "      <td>camy's grill</td>\n",
       "      <td>3339 wilshire blvd</td>\n",
       "      <td>False</td>\n",
       "      <td>restaurant</td>\n",
       "      <td>39</td>\n",
       "      <td>3339,wilshire</td>\n",
       "      <td>wilshire, Los Angeles,USA</td>\n",
       "    </tr>\n",
       "    <tr>\n",
       "      <th>33</th>\n",
       "      <td>11819</td>\n",
       "      <td>ono hawaiian bbq</td>\n",
       "      <td>5539 w sunset blvd</td>\n",
       "      <td>True</td>\n",
       "      <td>restaurant</td>\n",
       "      <td>35</td>\n",
       "      <td>5539,sunset</td>\n",
       "      <td>sunset, Los Angeles,USA</td>\n",
       "    </tr>\n",
       "  </tbody>\n",
       "</table>\n",
       "</div>"
      ],
      "text/plain": [
       "       id        object_name                address  chain object_type  \\\n",
       "3   11789  triniti echo park     1814 w sunset blvd  False  restaurant   \n",
       "10  11796      el pollo loco     5319 w sunset blvd   True  restaurant   \n",
       "14  11800  cuscatleca bakery  2501 w sunset blvd #a   True      bakery   \n",
       "22  11808       camy's grill     3339 wilshire blvd  False  restaurant   \n",
       "33  11819   ono hawaiian bbq     5539 w sunset blvd   True  restaurant   \n",
       "\n",
       "    number clean_street_check         clean_street_final  \n",
       "3       22        1814,sunset    sunset, Los Angeles,USA  \n",
       "10      38        5319,sunset    sunset, Los Angeles,USA  \n",
       "14      26        2501,sunset    sunset, Los Angeles,USA  \n",
       "22      39      3339,wilshire  wilshire, Los Angeles,USA  \n",
       "33      35        5539,sunset    sunset, Los Angeles,USA  "
      ]
     },
     "execution_count": 46,
     "metadata": {},
     "output_type": "execute_result"
    }
   ],
   "source": [
    "seat_monica_3rd = top_rest_seat_clean.query('clean_street_final == \"sunset, Los Angeles,USA\" or clean_street_final == \"wilshire, Los Angeles,USA\"')\n",
    "seat_monica_3rd.head()"
   ]
  },
  {
   "cell_type": "code",
   "execution_count": 47,
   "id": "9f42dd27",
   "metadata": {},
   "outputs": [
    {
     "data": {
      "image/png": "[encoded data removed]",
      "text/plain": [
       "<Figure size 432x288 with 1 Axes>"
      ]
     },
     "metadata": {
      "needs_background": "light"
     },
     "output_type": "display_data"
    }
   ],
   "source": [
    "sns.histplot(data=seat_monica_3rd, x=\"number\", kde=True)\n",
    "plt.title('Distribution of the Number of Seats in the 2 Most Popular Streets: Sunset and Wilshire - Clean Data')\n",
    "plt.xlabel('Seats')\n",
    "plt.show()"
   ]
  },
  {
   "cell_type": "code",
   "execution_count": 48,
   "id": "e106ae23",
   "metadata": {},
   "outputs": [
    {
     "data": {
      "text/plain": [
       "26.0"
      ]
     },
     "execution_count": 48,
     "metadata": {},
     "output_type": "execute_result"
    }
   ],
   "source": [
    "seat_monica_3rd.number.median()"
   ]
  },
  {
   "cell_type": "code",
   "execution_count": 49,
   "id": "d5d779d5",
   "metadata": {},
   "outputs": [
    {
     "data": {
      "text/plain": [
       "25.58695652173913"
      ]
     },
     "execution_count": 49,
     "metadata": {},
     "output_type": "execute_result"
    }
   ],
   "source": [
    "seat_monica_3rd.number.mean()"
   ]
  },
  {
   "cell_type": "markdown",
   "id": "187a3030",
   "metadata": {},
   "source": [
    "The numbers are pretty much the same. \n",
    "\n",
    "Great!"
   ]
  },
  {
   "cell_type": "markdown",
   "id": "d812ba36",
   "metadata": {},
   "source": [
    "### Draw an overall conclusion and provide recommendations on restaurant type and number of seats. Comment on the possibility of developing a chain."
   ]
  },
  {
   "cell_type": "markdown",
   "id": "fece05d8",
   "metadata": {},
   "source": [
    "* First, we would recommend placing the establishment in one of the following streets: \n",
    "\n",
    "1. Sunset st.\n",
    "2. Wilshire st.\n",
    "\n",
    "These 2 streets have the biggest amount of restaurants, which shows that these streets have economic power and conditions that lead to success in the field of restaurants, and this is exactly what we are looking for.\n",
    "\n",
    "* Secondly, in the coffee industry (which is our industry), most of the establishments are chain establishments, while establishments of restaurants type are the most non-chain establishment. So here we would recommend  2 ways of action to maintain the profit of the coffee house:\n",
    "\n",
    "1. To grow and become a chain, or alternatively become a franchisee of one of the chains. \n",
    "\n",
    "2. To change the establishment type from coffee house to restaurant type which seems to be the most demanded establishment type, and also not-chain type. In the restaurant industry, it's easier to succeed if you are not a chain restaurant, which means that you can succeed by the uniqueness of your restaurant - and that's exactly what we offer - a unique restaurant with little robot waiters.\n",
    "\n",
    "* We recommend maintaining set the number of seats to be around 25 - this is the average number of seats in most of the establishments in the 2 most popular streets Sunset and Wilshire. "
   ]
  }
 ],
 "metadata": {
  "ExecuteTimeLog": [
   {
    "duration": 1610,
    "start_time": "2022-02-06T19:28:10.875Z"
   },
   {
    "duration": 546,
    "start_time": "2022-02-06T19:28:11.943Z"
   },
   {
    "duration": 542,
    "start_time": "2022-02-06T19:28:11.948Z"
   },
   {
    "duration": 542,
    "start_time": "2022-02-06T19:28:11.950Z"
   },
   {
    "duration": 541,
    "start_time": "2022-02-06T19:28:11.952Z"
   },
   {
    "duration": 541,
    "start_time": "2022-02-06T19:28:11.953Z"
   },
   {
    "duration": 540,
    "start_time": "2022-02-06T19:28:11.956Z"
   },
   {
    "duration": 539,
    "start_time": "2022-02-06T19:28:11.958Z"
   },
   {
    "duration": 536,
    "start_time": "2022-02-06T19:28:11.963Z"
   },
   {
    "duration": 535,
    "start_time": "2022-02-06T19:28:11.965Z"
   },
   {
    "duration": 535,
    "start_time": "2022-02-06T19:28:11.966Z"
   },
   {
    "duration": 534,
    "start_time": "2022-02-06T19:28:11.968Z"
   },
   {
    "duration": 534,
    "start_time": "2022-02-06T19:28:11.970Z"
   },
   {
    "duration": 533,
    "start_time": "2022-02-06T19:28:11.972Z"
   },
   {
    "duration": 532,
    "start_time": "2022-02-06T19:28:11.974Z"
   },
   {
    "duration": 531,
    "start_time": "2022-02-06T19:28:11.976Z"
   },
   {
    "duration": 530,
    "start_time": "2022-02-06T19:28:11.978Z"
   },
   {
    "duration": 530,
    "start_time": "2022-02-06T19:28:11.979Z"
   },
   {
    "duration": 526,
    "start_time": "2022-02-06T19:28:11.985Z"
   },
   {
    "duration": 525,
    "start_time": "2022-02-06T19:28:11.987Z"
   },
   {
    "duration": 524,
    "start_time": "2022-02-06T19:28:11.989Z"
   },
   {
    "duration": 524,
    "start_time": "2022-02-06T19:28:11.991Z"
   },
   {
    "duration": 522,
    "start_time": "2022-02-06T19:28:11.994Z"
   },
   {
    "duration": 521,
    "start_time": "2022-02-06T19:28:11.996Z"
   },
   {
    "duration": 516,
    "start_time": "2022-02-06T19:28:12.002Z"
   },
   {
    "duration": 516,
    "start_time": "2022-02-06T19:28:12.004Z"
   },
   {
    "duration": 515,
    "start_time": "2022-02-06T19:28:12.006Z"
   },
   {
    "duration": 514,
    "start_time": "2022-02-06T19:28:12.008Z"
   },
   {
    "duration": 513,
    "start_time": "2022-02-06T19:28:12.010Z"
   },
   {
    "duration": 512,
    "start_time": "2022-02-06T19:28:12.012Z"
   },
   {
    "duration": 511,
    "start_time": "2022-02-06T19:28:12.014Z"
   },
   {
    "duration": 512,
    "start_time": "2022-02-06T19:28:12.015Z"
   },
   {
    "duration": 511,
    "start_time": "2022-02-06T19:28:12.017Z"
   },
   {
    "duration": 513,
    "start_time": "2022-02-06T19:28:12.018Z"
   },
   {
    "duration": 508,
    "start_time": "2022-02-06T19:28:12.024Z"
   },
   {
    "duration": 508,
    "start_time": "2022-02-06T19:28:12.025Z"
   },
   {
    "duration": 508,
    "start_time": "2022-02-06T19:28:12.027Z"
   },
   {
    "duration": 508,
    "start_time": "2022-02-06T19:28:12.028Z"
   },
   {
    "duration": 507,
    "start_time": "2022-02-06T19:28:12.030Z"
   },
   {
    "duration": 507,
    "start_time": "2022-02-06T19:28:12.031Z"
   },
   {
    "duration": 506,
    "start_time": "2022-02-06T19:28:12.033Z"
   },
   {
    "duration": 506,
    "start_time": "2022-02-06T19:28:12.035Z"
   },
   {
    "duration": 505,
    "start_time": "2022-02-06T19:28:12.036Z"
   },
   {
    "duration": 504,
    "start_time": "2022-02-06T19:28:12.038Z"
   },
   {
    "duration": 503,
    "start_time": "2022-02-06T19:28:12.040Z"
   },
   {
    "duration": 503,
    "start_time": "2022-02-06T19:28:12.041Z"
   },
   {
    "duration": 502,
    "start_time": "2022-02-06T19:28:12.043Z"
   },
   {
    "duration": 501,
    "start_time": "2022-02-06T19:28:12.044Z"
   },
   {
    "duration": 500,
    "start_time": "2022-02-06T19:28:12.046Z"
   },
   {
    "duration": 495,
    "start_time": "2022-02-06T19:28:12.052Z"
   },
   {
    "duration": 3,
    "start_time": "2022-02-06T19:30:10.055Z"
   },
   {
    "duration": 1085,
    "start_time": "2022-02-06T19:30:15.094Z"
   },
   {
    "duration": 164,
    "start_time": "2022-02-06T19:30:16.181Z"
   },
   {
    "duration": 10,
    "start_time": "2022-02-06T19:30:16.347Z"
   },
   {
    "duration": 11,
    "start_time": "2022-02-06T19:30:16.359Z"
   },
   {
    "duration": 5,
    "start_time": "2022-02-06T19:30:16.372Z"
   },
   {
    "duration": 6,
    "start_time": "2022-02-06T19:30:16.379Z"
   },
   {
    "duration": 5,
    "start_time": "2022-02-06T19:30:16.386Z"
   },
   {
    "duration": 39,
    "start_time": "2022-02-06T19:30:16.393Z"
   },
   {
    "duration": 8,
    "start_time": "2022-02-06T19:30:16.435Z"
   },
   {
    "duration": 11,
    "start_time": "2022-02-06T19:30:16.444Z"
   },
   {
    "duration": 685,
    "start_time": "2022-02-06T19:30:16.457Z"
   },
   {
    "duration": 14,
    "start_time": "2022-02-06T19:30:17.144Z"
   },
   {
    "duration": 3,
    "start_time": "2022-02-06T19:30:17.159Z"
   },
   {
    "duration": 11,
    "start_time": "2022-02-06T19:30:17.164Z"
   },
   {
    "duration": 14,
    "start_time": "2022-02-06T19:30:17.176Z"
   },
   {
    "duration": 9,
    "start_time": "2022-02-06T19:30:17.191Z"
   },
   {
    "duration": 7,
    "start_time": "2022-02-06T19:30:17.201Z"
   },
   {
    "duration": 12,
    "start_time": "2022-02-06T19:30:17.227Z"
   },
   {
    "duration": 206,
    "start_time": "2022-02-06T19:30:17.241Z"
   },
   {
    "duration": 10,
    "start_time": "2022-02-06T19:30:17.449Z"
   },
   {
    "duration": 251,
    "start_time": "2022-02-06T19:30:17.461Z"
   },
   {
    "duration": 23,
    "start_time": "2022-02-06T19:30:17.714Z"
   },
   {
    "duration": 473,
    "start_time": "2022-02-06T19:30:17.741Z"
   },
   {
    "duration": 20,
    "start_time": "2022-02-06T19:30:18.217Z"
   },
   {
    "duration": 16,
    "start_time": "2022-02-06T19:30:18.239Z"
   },
   {
    "duration": 291,
    "start_time": "2022-02-06T19:30:18.257Z"
   },
   {
    "duration": 9,
    "start_time": "2022-02-06T19:30:18.549Z"
   },
   {
    "duration": 445,
    "start_time": "2022-02-06T19:30:18.560Z"
   },
   {
    "duration": 3,
    "start_time": "2022-02-06T19:30:19.006Z"
   },
   {
    "duration": 1375,
    "start_time": "2022-02-06T19:30:19.011Z"
   },
   {
    "duration": 533,
    "start_time": "2022-02-06T19:30:19.855Z"
   },
   {
    "duration": 531,
    "start_time": "2022-02-06T19:30:19.858Z"
   },
   {
    "duration": 531,
    "start_time": "2022-02-06T19:30:19.859Z"
   },
   {
    "duration": 530,
    "start_time": "2022-02-06T19:30:19.861Z"
   },
   {
    "duration": 529,
    "start_time": "2022-02-06T19:30:19.863Z"
   },
   {
    "duration": 528,
    "start_time": "2022-02-06T19:30:19.865Z"
   },
   {
    "duration": 527,
    "start_time": "2022-02-06T19:30:19.866Z"
   },
   {
    "duration": 526,
    "start_time": "2022-02-06T19:30:19.868Z"
   },
   {
    "duration": 526,
    "start_time": "2022-02-06T19:30:19.869Z"
   },
   {
    "duration": 525,
    "start_time": "2022-02-06T19:30:19.871Z"
   },
   {
    "duration": 524,
    "start_time": "2022-02-06T19:30:19.873Z"
   },
   {
    "duration": 524,
    "start_time": "2022-02-06T19:30:19.874Z"
   },
   {
    "duration": 522,
    "start_time": "2022-02-06T19:30:19.876Z"
   },
   {
    "duration": 521,
    "start_time": "2022-02-06T19:30:19.878Z"
   },
   {
    "duration": 520,
    "start_time": "2022-02-06T19:30:19.880Z"
   },
   {
    "duration": 519,
    "start_time": "2022-02-06T19:30:19.882Z"
   },
   {
    "duration": 518,
    "start_time": "2022-02-06T19:30:19.884Z"
   },
   {
    "duration": 517,
    "start_time": "2022-02-06T19:30:19.886Z"
   },
   {
    "duration": 516,
    "start_time": "2022-02-06T19:30:19.887Z"
   },
   {
    "duration": 515,
    "start_time": "2022-02-06T19:30:19.889Z"
   },
   {
    "duration": 2822,
    "start_time": "2022-02-06T19:52:58.676Z"
   },
   {
    "duration": 467,
    "start_time": "2022-02-06T19:53:01.033Z"
   },
   {
    "duration": 466,
    "start_time": "2022-02-06T19:53:01.035Z"
   },
   {
    "duration": 242,
    "start_time": "2022-02-06T19:53:01.618Z"
   },
   {
    "duration": 8,
    "start_time": "2022-02-06T19:53:03.861Z"
   },
   {
    "duration": 1031,
    "start_time": "2022-02-06T19:53:04.161Z"
   },
   {
    "duration": 229,
    "start_time": "2022-02-06T19:53:05.990Z"
   },
   {
    "duration": 223,
    "start_time": "2022-02-06T19:53:06.660Z"
   },
   {
    "duration": 228,
    "start_time": "2022-02-06T19:53:08.369Z"
   },
   {
    "duration": 2773,
    "start_time": "2022-02-06T19:53:10.369Z"
   },
   {
    "duration": 470,
    "start_time": "2022-02-06T19:53:12.674Z"
   },
   {
    "duration": 469,
    "start_time": "2022-02-06T19:53:12.676Z"
   },
   {
    "duration": 467,
    "start_time": "2022-02-06T19:53:12.679Z"
   },
   {
    "duration": 235,
    "start_time": "2022-02-06T19:53:13.958Z"
   },
   {
    "duration": 232,
    "start_time": "2022-02-06T19:53:14.344Z"
   },
   {
    "duration": 250,
    "start_time": "2022-02-06T19:53:15.959Z"
   },
   {
    "duration": 236,
    "start_time": "2022-02-06T19:53:16.674Z"
   },
   {
    "duration": 222,
    "start_time": "2022-02-06T19:53:18.425Z"
   },
   {
    "duration": 232,
    "start_time": "2022-02-06T19:53:18.859Z"
   },
   {
    "duration": 231,
    "start_time": "2022-02-06T19:53:19.300Z"
   },
   {
    "duration": 235,
    "start_time": "2022-02-06T19:53:19.768Z"
   },
   {
    "duration": 1092,
    "start_time": "2022-02-09T12:08:26.830Z"
   },
   {
    "duration": 17431,
    "start_time": "2022-02-09T12:08:56.124Z"
   },
   {
    "duration": 6072,
    "start_time": "2022-02-09T12:09:16.424Z"
   },
   {
    "duration": 179,
    "start_time": "2022-02-09T12:09:22.499Z"
   },
   {
    "duration": 22,
    "start_time": "2022-02-09T12:09:22.681Z"
   },
   {
    "duration": 38,
    "start_time": "2022-02-09T12:09:22.707Z"
   },
   {
    "duration": 14,
    "start_time": "2022-02-09T12:09:22.748Z"
   },
   {
    "duration": 20,
    "start_time": "2022-02-09T12:09:22.765Z"
   },
   {
    "duration": 12,
    "start_time": "2022-02-09T12:09:22.788Z"
   },
   {
    "duration": 47,
    "start_time": "2022-02-09T12:09:22.803Z"
   },
   {
    "duration": 8,
    "start_time": "2022-02-09T12:09:22.853Z"
   },
   {
    "duration": 26,
    "start_time": "2022-02-09T12:09:22.863Z"
   },
   {
    "duration": 550,
    "start_time": "2022-02-09T12:09:22.892Z"
   },
   {
    "duration": 27,
    "start_time": "2022-02-09T12:09:23.445Z"
   },
   {
    "duration": 5,
    "start_time": "2022-02-09T12:09:23.475Z"
   },
   {
    "duration": 17,
    "start_time": "2022-02-09T12:09:23.483Z"
   },
   {
    "duration": 49,
    "start_time": "2022-02-09T12:09:23.502Z"
   },
   {
    "duration": 14,
    "start_time": "2022-02-09T12:09:23.554Z"
   },
   {
    "duration": 14,
    "start_time": "2022-02-09T12:09:23.571Z"
   },
   {
    "duration": 53,
    "start_time": "2022-02-09T12:09:23.588Z"
   },
   {
    "duration": 328,
    "start_time": "2022-02-09T12:09:23.644Z"
   },
   {
    "duration": 15,
    "start_time": "2022-02-09T12:09:23.975Z"
   },
   {
    "duration": 442,
    "start_time": "2022-02-09T12:09:23.993Z"
   },
   {
    "duration": 20,
    "start_time": "2022-02-09T12:09:24.438Z"
   },
   {
    "duration": 672,
    "start_time": "2022-02-09T12:09:24.466Z"
   },
   {
    "duration": 18,
    "start_time": "2022-02-09T12:09:25.142Z"
   },
   {
    "duration": 24,
    "start_time": "2022-02-09T12:09:25.163Z"
   },
   {
    "duration": 455,
    "start_time": "2022-02-09T12:09:25.189Z"
   },
   {
    "duration": 13,
    "start_time": "2022-02-09T12:09:25.647Z"
   },
   {
    "duration": 811,
    "start_time": "2022-02-09T12:09:25.662Z"
   },
   {
    "duration": 6,
    "start_time": "2022-02-09T12:09:26.475Z"
   },
   {
    "duration": 2322,
    "start_time": "2022-02-09T12:09:26.483Z"
   },
   {
    "duration": 28,
    "start_time": "2022-02-09T12:09:28.807Z"
   },
   {
    "duration": 6,
    "start_time": "2022-02-09T12:09:28.837Z"
   },
   {
    "duration": 6,
    "start_time": "2022-02-09T12:09:28.845Z"
   },
   {
    "duration": 2414,
    "start_time": "2022-02-09T12:09:28.853Z"
   },
   {
    "duration": 22,
    "start_time": "2022-02-09T12:09:31.269Z"
   },
   {
    "duration": 768,
    "start_time": "2022-02-09T12:09:31.293Z"
   },
   {
    "duration": 9,
    "start_time": "2022-02-09T12:09:32.063Z"
   },
   {
    "duration": 32,
    "start_time": "2022-02-09T12:09:32.074Z"
   },
   {
    "duration": 317,
    "start_time": "2022-02-09T12:09:32.108Z"
   },
   {
    "duration": 128,
    "start_time": "2022-02-09T12:09:32.299Z"
   },
   {
    "duration": 125,
    "start_time": "2022-02-09T12:09:32.304Z"
   },
   {
    "duration": 120,
    "start_time": "2022-02-09T12:09:32.310Z"
   },
   {
    "duration": 118,
    "start_time": "2022-02-09T12:09:32.313Z"
   },
   {
    "duration": 117,
    "start_time": "2022-02-09T12:09:32.316Z"
   },
   {
    "duration": 115,
    "start_time": "2022-02-09T12:09:32.319Z"
   },
   {
    "duration": 113,
    "start_time": "2022-02-09T12:09:32.322Z"
   },
   {
    "duration": 105,
    "start_time": "2022-02-09T12:09:32.331Z"
   },
   {
    "duration": 104,
    "start_time": "2022-02-09T12:09:32.334Z"
   },
   {
    "duration": 103,
    "start_time": "2022-02-09T12:09:32.336Z"
   },
   {
    "duration": 101,
    "start_time": "2022-02-09T12:09:32.340Z"
   },
   {
    "duration": 5,
    "start_time": "2022-02-09T12:10:33.532Z"
   },
   {
    "duration": 6,
    "start_time": "2022-02-09T12:10:34.992Z"
   },
   {
    "duration": 18,
    "start_time": "2022-02-09T12:10:38.113Z"
   },
   {
    "duration": 241,
    "start_time": "2022-02-09T12:10:38.180Z"
   },
   {
    "duration": 6,
    "start_time": "2022-02-09T12:10:39.396Z"
   },
   {
    "duration": 6,
    "start_time": "2022-02-09T12:10:43.685Z"
   },
   {
    "duration": 19,
    "start_time": "2022-02-09T12:10:46.044Z"
   },
   {
    "duration": 296,
    "start_time": "2022-02-09T12:10:47.573Z"
   },
   {
    "duration": 7,
    "start_time": "2022-02-09T12:10:51.742Z"
   },
   {
    "duration": 6,
    "start_time": "2022-02-09T12:10:52.342Z"
   },
   {
    "duration": 5,
    "start_time": "2022-02-09T12:10:56.912Z"
   },
   {
    "duration": 3127,
    "start_time": "2022-02-09T12:12:42.248Z"
   },
   {
    "duration": 3023,
    "start_time": "2022-02-09T12:12:45.378Z"
   },
   {
    "duration": 4,
    "start_time": "2022-02-09T12:12:48.405Z"
   },
   {
    "duration": 208,
    "start_time": "2022-02-09T12:12:48.412Z"
   },
   {
    "duration": 14,
    "start_time": "2022-02-09T12:12:48.623Z"
   },
   {
    "duration": 40,
    "start_time": "2022-02-09T12:12:48.640Z"
   },
   {
    "duration": 11,
    "start_time": "2022-02-09T12:12:48.682Z"
   },
   {
    "duration": 38,
    "start_time": "2022-02-09T12:12:48.696Z"
   },
   {
    "duration": 8,
    "start_time": "2022-02-09T12:12:48.740Z"
   },
   {
    "duration": 64,
    "start_time": "2022-02-09T12:12:48.752Z"
   },
   {
    "duration": 17,
    "start_time": "2022-02-09T12:12:48.819Z"
   },
   {
    "duration": 17,
    "start_time": "2022-02-09T12:12:48.839Z"
   },
   {
    "duration": 27,
    "start_time": "2022-02-09T12:12:48.858Z"
   },
   {
    "duration": 58,
    "start_time": "2022-02-09T12:12:48.887Z"
   },
   {
    "duration": 5,
    "start_time": "2022-02-09T12:12:48.947Z"
   },
   {
    "duration": 14,
    "start_time": "2022-02-09T12:12:48.954Z"
   },
   {
    "duration": 26,
    "start_time": "2022-02-09T12:12:48.970Z"
   },
   {
    "duration": 40,
    "start_time": "2022-02-09T12:12:48.998Z"
   },
   {
    "duration": 13,
    "start_time": "2022-02-09T12:12:49.040Z"
   },
   {
    "duration": 19,
    "start_time": "2022-02-09T12:12:49.055Z"
   },
   {
    "duration": 360,
    "start_time": "2022-02-09T12:12:49.077Z"
   },
   {
    "duration": 16,
    "start_time": "2022-02-09T12:12:49.440Z"
   },
   {
    "duration": 451,
    "start_time": "2022-02-09T12:12:49.458Z"
   },
   {
    "duration": 39,
    "start_time": "2022-02-09T12:12:49.913Z"
   },
   {
    "duration": 669,
    "start_time": "2022-02-09T12:12:49.955Z"
   },
   {
    "duration": 19,
    "start_time": "2022-02-09T12:12:50.626Z"
   },
   {
    "duration": 32,
    "start_time": "2022-02-09T12:12:50.651Z"
   },
   {
    "duration": 449,
    "start_time": "2022-02-09T12:12:50.686Z"
   },
   {
    "duration": 13,
    "start_time": "2022-02-09T12:12:51.138Z"
   },
   {
    "duration": 731,
    "start_time": "2022-02-09T12:12:51.154Z"
   },
   {
    "duration": 7,
    "start_time": "2022-02-09T12:12:51.888Z"
   },
   {
    "duration": 2504,
    "start_time": "2022-02-09T12:12:51.897Z"
   },
   {
    "duration": 34,
    "start_time": "2022-02-09T12:12:54.403Z"
   },
   {
    "duration": 7,
    "start_time": "2022-02-09T12:12:54.440Z"
   },
   {
    "duration": 6,
    "start_time": "2022-02-09T12:12:54.449Z"
   },
   {
    "duration": 2369,
    "start_time": "2022-02-09T12:12:54.458Z"
   },
   {
    "duration": 23,
    "start_time": "2022-02-09T12:12:56.832Z"
   },
   {
    "duration": 922,
    "start_time": "2022-02-09T12:12:56.857Z"
   },
   {
    "duration": 11,
    "start_time": "2022-02-09T12:12:57.781Z"
   },
   {
    "duration": 43,
    "start_time": "2022-02-09T12:12:57.794Z"
   },
   {
    "duration": 267,
    "start_time": "2022-02-09T12:12:57.840Z"
   },
   {
    "duration": 100,
    "start_time": "2022-02-09T12:12:58.009Z"
   },
   {
    "duration": 94,
    "start_time": "2022-02-09T12:12:58.017Z"
   },
   {
    "duration": 71,
    "start_time": "2022-02-09T12:12:58.042Z"
   },
   {
    "duration": 66,
    "start_time": "2022-02-09T12:12:58.048Z"
   },
   {
    "duration": 63,
    "start_time": "2022-02-09T12:12:58.052Z"
   },
   {
    "duration": 62,
    "start_time": "2022-02-09T12:12:58.055Z"
   },
   {
    "duration": 60,
    "start_time": "2022-02-09T12:12:58.058Z"
   },
   {
    "duration": 59,
    "start_time": "2022-02-09T12:12:58.061Z"
   },
   {
    "duration": 53,
    "start_time": "2022-02-09T12:12:58.068Z"
   },
   {
    "duration": 51,
    "start_time": "2022-02-09T12:12:58.071Z"
   },
   {
    "duration": 50,
    "start_time": "2022-02-09T12:12:58.073Z"
   },
   {
    "duration": 4,
    "start_time": "2022-02-09T12:14:09.522Z"
   },
   {
    "duration": 257,
    "start_time": "2022-02-09T12:14:10.054Z"
   },
   {
    "duration": 114,
    "start_time": "2022-02-09T12:17:42.235Z"
   },
   {
    "duration": 3058,
    "start_time": "2022-02-09T12:17:54.515Z"
   },
   {
    "duration": 6334,
    "start_time": "2022-02-09T12:17:57.576Z"
   },
   {
    "duration": 3,
    "start_time": "2022-02-09T12:18:03.914Z"
   },
   {
    "duration": 175,
    "start_time": "2022-02-09T12:18:03.920Z"
   },
   {
    "duration": 14,
    "start_time": "2022-02-09T12:18:04.097Z"
   },
   {
    "duration": 43,
    "start_time": "2022-02-09T12:18:04.113Z"
   },
   {
    "duration": 8,
    "start_time": "2022-02-09T12:18:04.160Z"
   },
   {
    "duration": 13,
    "start_time": "2022-02-09T12:18:04.172Z"
   },
   {
    "duration": 11,
    "start_time": "2022-02-09T12:18:04.188Z"
   },
   {
    "duration": 59,
    "start_time": "2022-02-09T12:18:04.202Z"
   },
   {
    "duration": 9,
    "start_time": "2022-02-09T12:18:04.264Z"
   },
   {
    "duration": 20,
    "start_time": "2022-02-09T12:18:04.275Z"
   },
   {
    "duration": 49,
    "start_time": "2022-02-09T12:18:04.298Z"
   },
   {
    "duration": 25,
    "start_time": "2022-02-09T12:18:04.349Z"
   },
   {
    "duration": 6,
    "start_time": "2022-02-09T12:18:04.376Z"
   },
   {
    "duration": 20,
    "start_time": "2022-02-09T12:18:04.384Z"
   },
   {
    "duration": 28,
    "start_time": "2022-02-09T12:18:04.433Z"
   },
   {
    "duration": 20,
    "start_time": "2022-02-09T12:18:04.463Z"
   },
   {
    "duration": 14,
    "start_time": "2022-02-09T12:18:04.486Z"
   },
   {
    "duration": 44,
    "start_time": "2022-02-09T12:18:04.502Z"
   },
   {
    "duration": 344,
    "start_time": "2022-02-09T12:18:04.549Z"
   },
   {
    "duration": 13,
    "start_time": "2022-02-09T12:18:04.898Z"
   },
   {
    "duration": 443,
    "start_time": "2022-02-09T12:18:04.914Z"
   },
   {
    "duration": 18,
    "start_time": "2022-02-09T12:18:05.359Z"
   },
   {
    "duration": 704,
    "start_time": "2022-02-09T12:18:05.379Z"
   },
   {
    "duration": 18,
    "start_time": "2022-02-09T12:18:06.086Z"
   },
   {
    "duration": 48,
    "start_time": "2022-02-09T12:18:06.107Z"
   },
   {
    "duration": 547,
    "start_time": "2022-02-09T12:18:06.157Z"
   },
   {
    "duration": 13,
    "start_time": "2022-02-09T12:18:06.706Z"
   },
   {
    "duration": 710,
    "start_time": "2022-02-09T12:18:06.733Z"
   },
   {
    "duration": 6,
    "start_time": "2022-02-09T12:18:07.445Z"
   },
   {
    "duration": 2344,
    "start_time": "2022-02-09T12:18:07.453Z"
   },
   {
    "duration": 18,
    "start_time": "2022-02-09T12:18:09.799Z"
   },
   {
    "duration": 16,
    "start_time": "2022-02-09T12:18:09.820Z"
   },
   {
    "duration": 14,
    "start_time": "2022-02-09T12:18:09.839Z"
   },
   {
    "duration": 2385,
    "start_time": "2022-02-09T12:18:09.856Z"
   },
   {
    "duration": 27,
    "start_time": "2022-02-09T12:18:12.245Z"
   },
   {
    "duration": 916,
    "start_time": "2022-02-09T12:18:12.275Z"
   },
   {
    "duration": 10,
    "start_time": "2022-02-09T12:18:13.193Z"
   },
   {
    "duration": 39,
    "start_time": "2022-02-09T12:18:13.206Z"
   },
   {
    "duration": 239,
    "start_time": "2022-02-09T12:18:13.248Z"
   },
   {
    "duration": 64,
    "start_time": "2022-02-09T12:18:13.425Z"
   },
   {
    "duration": 62,
    "start_time": "2022-02-09T12:18:13.428Z"
   },
   {
    "duration": 60,
    "start_time": "2022-02-09T12:18:13.431Z"
   },
   {
    "duration": 60,
    "start_time": "2022-02-09T12:18:13.433Z"
   },
   {
    "duration": 53,
    "start_time": "2022-02-09T12:18:13.441Z"
   },
   {
    "duration": 48,
    "start_time": "2022-02-09T12:18:13.448Z"
   },
   {
    "duration": 40,
    "start_time": "2022-02-09T12:18:13.457Z"
   },
   {
    "duration": 35,
    "start_time": "2022-02-09T12:18:13.464Z"
   },
   {
    "duration": 28,
    "start_time": "2022-02-09T12:18:13.472Z"
   },
   {
    "duration": 22,
    "start_time": "2022-02-09T12:18:13.479Z"
   },
   {
    "duration": -24,
    "start_time": "2022-02-09T12:18:13.527Z"
   },
   {
    "duration": 528,
    "start_time": "2022-02-09T12:18:58.395Z"
   },
   {
    "duration": 229,
    "start_time": "2022-02-09T12:19:10.320Z"
   },
   {
    "duration": 4,
    "start_time": "2022-02-09T12:20:27.470Z"
   },
   {
    "duration": 9457,
    "start_time": "2022-02-09T12:24:52.837Z"
   },
   {
    "duration": 232,
    "start_time": "2022-02-09T12:25:02.298Z"
   },
   {
    "duration": 15,
    "start_time": "2022-02-09T12:25:02.533Z"
   },
   {
    "duration": 42,
    "start_time": "2022-02-09T12:25:02.551Z"
   },
   {
    "duration": 10,
    "start_time": "2022-02-09T12:25:02.596Z"
   },
   {
    "duration": 10,
    "start_time": "2022-02-09T12:25:02.633Z"
   },
   {
    "duration": 9,
    "start_time": "2022-02-09T12:25:02.650Z"
   },
   {
    "duration": 71,
    "start_time": "2022-02-09T12:25:02.662Z"
   },
   {
    "duration": 10,
    "start_time": "2022-02-09T12:25:02.736Z"
   },
   {
    "duration": 25,
    "start_time": "2022-02-09T12:25:02.749Z"
   },
   {
    "duration": 57,
    "start_time": "2022-02-09T12:25:02.777Z"
   },
   {
    "duration": 23,
    "start_time": "2022-02-09T12:25:02.836Z"
   },
   {
    "duration": 5,
    "start_time": "2022-02-09T12:25:02.861Z"
   },
   {
    "duration": 20,
    "start_time": "2022-02-09T12:25:02.868Z"
   },
   {
    "duration": 52,
    "start_time": "2022-02-09T12:25:02.891Z"
   },
   {
    "duration": 16,
    "start_time": "2022-02-09T12:25:02.946Z"
   },
   {
    "duration": 14,
    "start_time": "2022-02-09T12:25:02.965Z"
   },
   {
    "duration": 55,
    "start_time": "2022-02-09T12:25:02.982Z"
   },
   {
    "duration": 355,
    "start_time": "2022-02-09T12:25:03.041Z"
   },
   {
    "duration": 13,
    "start_time": "2022-02-09T12:25:03.399Z"
   },
   {
    "duration": 424,
    "start_time": "2022-02-09T12:25:03.433Z"
   },
   {
    "duration": 18,
    "start_time": "2022-02-09T12:25:03.862Z"
   },
   {
    "duration": 693,
    "start_time": "2022-02-09T12:25:03.883Z"
   },
   {
    "duration": 20,
    "start_time": "2022-02-09T12:25:04.579Z"
   },
   {
    "duration": 46,
    "start_time": "2022-02-09T12:25:04.601Z"
   },
   {
    "duration": 406,
    "start_time": "2022-02-09T12:25:04.650Z"
   },
   {
    "duration": 14,
    "start_time": "2022-02-09T12:25:05.059Z"
   },
   {
    "duration": 727,
    "start_time": "2022-02-09T12:25:05.076Z"
   },
   {
    "duration": 5,
    "start_time": "2022-02-09T12:25:05.805Z"
   },
   {
    "duration": 2339,
    "start_time": "2022-02-09T12:25:05.812Z"
   },
   {
    "duration": 20,
    "start_time": "2022-02-09T12:25:08.153Z"
   },
   {
    "duration": 12,
    "start_time": "2022-02-09T12:25:08.175Z"
   },
   {
    "duration": 7,
    "start_time": "2022-02-09T12:25:08.189Z"
   },
   {
    "duration": 2360,
    "start_time": "2022-02-09T12:25:08.199Z"
   },
   {
    "duration": 25,
    "start_time": "2022-02-09T12:25:10.562Z"
   },
   {
    "duration": 790,
    "start_time": "2022-02-09T12:25:10.590Z"
   },
   {
    "duration": 11,
    "start_time": "2022-02-09T12:25:11.383Z"
   },
   {
    "duration": 40,
    "start_time": "2022-02-09T12:25:11.396Z"
   },
   {
    "duration": 335,
    "start_time": "2022-02-09T12:25:11.439Z"
   },
   {
    "duration": 5,
    "start_time": "2022-02-09T12:25:11.776Z"
   },
   {
    "duration": 9,
    "start_time": "2022-02-09T12:25:11.783Z"
   },
   {
    "duration": 39,
    "start_time": "2022-02-09T12:25:11.795Z"
   },
   {
    "duration": 266,
    "start_time": "2022-02-09T12:25:11.837Z"
   },
   {
    "duration": 180,
    "start_time": "2022-02-09T12:25:11.926Z"
   },
   {
    "duration": 175,
    "start_time": "2022-02-09T12:25:11.933Z"
   },
   {
    "duration": 172,
    "start_time": "2022-02-09T12:25:11.938Z"
   },
   {
    "duration": 171,
    "start_time": "2022-02-09T12:25:11.941Z"
   },
   {
    "duration": 169,
    "start_time": "2022-02-09T12:25:11.945Z"
   },
   {
    "duration": 168,
    "start_time": "2022-02-09T12:25:11.948Z"
   },
   {
    "duration": 163,
    "start_time": "2022-02-09T12:25:11.955Z"
   },
   {
    "duration": 251,
    "start_time": "2022-02-09T12:28:14.834Z"
   },
   {
    "duration": 1324,
    "start_time": "2022-02-09T20:28:48.315Z"
   },
   {
    "duration": 1124,
    "start_time": "2022-02-09T20:28:48.523Z"
   },
   {
    "duration": 1123,
    "start_time": "2022-02-09T20:28:48.526Z"
   },
   {
    "duration": 1123,
    "start_time": "2022-02-09T20:28:48.528Z"
   },
   {
    "duration": 1113,
    "start_time": "2022-02-09T20:28:48.540Z"
   },
   {
    "duration": 1112,
    "start_time": "2022-02-09T20:28:48.543Z"
   },
   {
    "duration": 1112,
    "start_time": "2022-02-09T20:28:48.545Z"
   },
   {
    "duration": 1112,
    "start_time": "2022-02-09T20:28:48.547Z"
   },
   {
    "duration": 1112,
    "start_time": "2022-02-09T20:28:48.549Z"
   },
   {
    "duration": 1113,
    "start_time": "2022-02-09T20:28:48.551Z"
   },
   {
    "duration": 1112,
    "start_time": "2022-02-09T20:28:48.554Z"
   },
   {
    "duration": 1112,
    "start_time": "2022-02-09T20:28:48.557Z"
   },
   {
    "duration": 1112,
    "start_time": "2022-02-09T20:28:48.559Z"
   },
   {
    "duration": 1086,
    "start_time": "2022-02-09T20:28:48.587Z"
   },
   {
    "duration": 1084,
    "start_time": "2022-02-09T20:28:48.590Z"
   },
   {
    "duration": 1084,
    "start_time": "2022-02-09T20:28:48.592Z"
   },
   {
    "duration": 1084,
    "start_time": "2022-02-09T20:28:48.594Z"
   },
   {
    "duration": 1084,
    "start_time": "2022-02-09T20:28:48.596Z"
   },
   {
    "duration": 1083,
    "start_time": "2022-02-09T20:28:48.599Z"
   },
   {
    "duration": 1082,
    "start_time": "2022-02-09T20:28:48.601Z"
   },
   {
    "duration": 1082,
    "start_time": "2022-02-09T20:28:48.603Z"
   },
   {
    "duration": 1080,
    "start_time": "2022-02-09T20:28:48.606Z"
   },
   {
    "duration": 1079,
    "start_time": "2022-02-09T20:28:48.608Z"
   },
   {
    "duration": 1078,
    "start_time": "2022-02-09T20:28:48.610Z"
   },
   {
    "duration": 1066,
    "start_time": "2022-02-09T20:28:48.623Z"
   },
   {
    "duration": 1098,
    "start_time": "2022-02-09T20:28:48.625Z"
   },
   {
    "duration": 1098,
    "start_time": "2022-02-09T20:28:48.627Z"
   },
   {
    "duration": 1093,
    "start_time": "2022-02-09T20:28:48.633Z"
   },
   {
    "duration": 1093,
    "start_time": "2022-02-09T20:28:48.635Z"
   },
   {
    "duration": 981,
    "start_time": "2022-02-09T20:28:48.748Z"
   },
   {
    "duration": 981,
    "start_time": "2022-02-09T20:28:48.750Z"
   },
   {
    "duration": 980,
    "start_time": "2022-02-09T20:28:48.752Z"
   },
   {
    "duration": 979,
    "start_time": "2022-02-09T20:28:48.755Z"
   },
   {
    "duration": 978,
    "start_time": "2022-02-09T20:28:48.757Z"
   },
   {
    "duration": 977,
    "start_time": "2022-02-09T20:28:48.759Z"
   },
   {
    "duration": 977,
    "start_time": "2022-02-09T20:28:48.761Z"
   },
   {
    "duration": 976,
    "start_time": "2022-02-09T20:28:48.763Z"
   },
   {
    "duration": 975,
    "start_time": "2022-02-09T20:28:48.765Z"
   },
   {
    "duration": 975,
    "start_time": "2022-02-09T20:28:48.767Z"
   },
   {
    "duration": 973,
    "start_time": "2022-02-09T20:28:48.770Z"
   },
   {
    "duration": 972,
    "start_time": "2022-02-09T20:28:48.772Z"
   },
   {
    "duration": 946,
    "start_time": "2022-02-09T20:28:48.799Z"
   },
   {
    "duration": 946,
    "start_time": "2022-02-09T20:28:48.801Z"
   },
   {
    "duration": 945,
    "start_time": "2022-02-09T20:28:48.804Z"
   },
   {
    "duration": 945,
    "start_time": "2022-02-09T20:28:48.806Z"
   },
   {
    "duration": 943,
    "start_time": "2022-02-09T20:28:48.809Z"
   },
   {
    "duration": 943,
    "start_time": "2022-02-09T20:28:48.810Z"
   },
   {
    "duration": 943,
    "start_time": "2022-02-09T20:28:48.812Z"
   },
   {
    "duration": 942,
    "start_time": "2022-02-09T20:28:48.814Z"
   },
   {
    "duration": 942,
    "start_time": "2022-02-09T20:28:48.816Z"
   },
   {
    "duration": 16744,
    "start_time": "2022-02-09T20:33:22.556Z"
   },
   {
    "duration": 3548,
    "start_time": "2022-02-09T20:51:04.796Z"
   },
   {
    "duration": 8848,
    "start_time": "2022-02-09T20:51:08.347Z"
   },
   {
    "duration": 157,
    "start_time": "2022-02-09T20:51:17.199Z"
   },
   {
    "duration": 21,
    "start_time": "2022-02-09T20:51:17.359Z"
   },
   {
    "duration": 19,
    "start_time": "2022-02-09T20:51:17.384Z"
   },
   {
    "duration": 8,
    "start_time": "2022-02-09T20:51:17.422Z"
   },
   {
    "duration": 10,
    "start_time": "2022-02-09T20:51:17.433Z"
   },
   {
    "duration": 9,
    "start_time": "2022-02-09T20:51:17.445Z"
   },
   {
    "duration": 19,
    "start_time": "2022-02-09T20:51:17.460Z"
   },
   {
    "duration": 50,
    "start_time": "2022-02-09T20:51:17.483Z"
   },
   {
    "duration": 16,
    "start_time": "2022-02-09T20:51:17.536Z"
   },
   {
    "duration": 1598,
    "start_time": "2022-02-09T20:51:17.555Z"
   },
   {
    "duration": 23,
    "start_time": "2022-02-09T20:51:19.156Z"
   },
   {
    "duration": 5,
    "start_time": "2022-02-09T20:51:19.182Z"
   },
   {
    "duration": 40,
    "start_time": "2022-02-09T20:51:19.190Z"
   },
   {
    "duration": 24,
    "start_time": "2022-02-09T20:51:19.233Z"
   },
   {
    "duration": 15,
    "start_time": "2022-02-09T20:51:19.259Z"
   },
   {
    "duration": 53,
    "start_time": "2022-02-09T20:51:19.276Z"
   },
   {
    "duration": 14,
    "start_time": "2022-02-09T20:51:19.332Z"
   },
   {
    "duration": 333,
    "start_time": "2022-02-09T20:51:19.348Z"
   },
   {
    "duration": 14,
    "start_time": "2022-02-09T20:51:19.683Z"
   },
   {
    "duration": 437,
    "start_time": "2022-02-09T20:51:19.699Z"
   },
   {
    "duration": 18,
    "start_time": "2022-02-09T20:51:20.138Z"
   },
   {
    "duration": 861,
    "start_time": "2022-02-09T20:51:20.159Z"
   },
   {
    "duration": 18,
    "start_time": "2022-02-09T20:51:21.023Z"
   },
   {
    "duration": 20,
    "start_time": "2022-02-09T20:51:21.043Z"
   },
   {
    "duration": 473,
    "start_time": "2022-02-09T20:51:21.069Z"
   },
   {
    "duration": 14,
    "start_time": "2022-02-09T20:51:21.545Z"
   },
   {
    "duration": 737,
    "start_time": "2022-02-09T20:51:21.561Z"
   },
   {
    "duration": 5,
    "start_time": "2022-02-09T20:51:22.300Z"
   },
   {
    "duration": 2238,
    "start_time": "2022-02-09T20:51:22.308Z"
   },
   {
    "duration": 19,
    "start_time": "2022-02-09T20:51:24.549Z"
   },
   {
    "duration": 10,
    "start_time": "2022-02-09T20:51:24.571Z"
   },
   {
    "duration": 6,
    "start_time": "2022-02-09T20:51:24.583Z"
   },
   {
    "duration": 2240,
    "start_time": "2022-02-09T20:51:24.623Z"
   },
   {
    "duration": 14,
    "start_time": "2022-02-09T20:51:26.865Z"
   },
   {
    "duration": 776,
    "start_time": "2022-02-09T20:51:26.882Z"
   },
   {
    "duration": 9,
    "start_time": "2022-02-09T20:51:27.660Z"
   },
   {
    "duration": 18,
    "start_time": "2022-02-09T20:51:27.671Z"
   },
   {
    "duration": 519,
    "start_time": "2022-02-09T20:51:27.692Z"
   },
   {
    "duration": 1068,
    "start_time": "2022-02-09T20:51:27.146Z"
   },
   {
    "duration": 1068,
    "start_time": "2022-02-09T20:51:27.148Z"
   },
   {
    "duration": 1070,
    "start_time": "2022-02-09T20:51:27.150Z"
   },
   {
    "duration": 1068,
    "start_time": "2022-02-09T20:51:27.154Z"
   },
   {
    "duration": 1068,
    "start_time": "2022-02-09T20:51:27.156Z"
   },
   {
    "duration": 1068,
    "start_time": "2022-02-09T20:51:27.158Z"
   },
   {
    "duration": 1068,
    "start_time": "2022-02-09T20:51:27.160Z"
   },
   {
    "duration": 1068,
    "start_time": "2022-02-09T20:51:27.162Z"
   },
   {
    "duration": 1067,
    "start_time": "2022-02-09T20:51:27.164Z"
   },
   {
    "duration": 1067,
    "start_time": "2022-02-09T20:51:27.166Z"
   },
   {
    "duration": 1066,
    "start_time": "2022-02-09T20:51:27.168Z"
   },
   {
    "duration": 6,
    "start_time": "2022-02-09T21:28:33.280Z"
   },
   {
    "duration": 7,
    "start_time": "2022-02-09T21:28:33.663Z"
   },
   {
    "duration": 18,
    "start_time": "2022-02-09T21:28:34.480Z"
   },
   {
    "duration": 358,
    "start_time": "2022-02-09T21:28:34.782Z"
   },
   {
    "duration": 951,
    "start_time": "2022-02-09T21:28:34.192Z"
   },
   {
    "duration": 5,
    "start_time": "2022-02-09T21:28:35.434Z"
   },
   {
    "duration": 20,
    "start_time": "2022-02-09T21:28:37.342Z"
   },
   {
    "duration": 381,
    "start_time": "2022-02-09T21:28:37.648Z"
   },
   {
    "duration": 959,
    "start_time": "2022-02-09T21:28:37.072Z"
   },
   {
    "duration": 7,
    "start_time": "2022-02-09T21:28:38.820Z"
   },
   {
    "duration": 126,
    "start_time": "2022-02-09T21:29:01.019Z"
   },
   {
    "duration": 137,
    "start_time": "2022-02-09T21:29:11.493Z"
   },
   {
    "duration": 358,
    "start_time": "2022-02-09T21:30:40.186Z"
   },
   {
    "duration": 382,
    "start_time": "2022-02-09T21:30:46.503Z"
   },
   {
    "duration": 362,
    "start_time": "2022-02-09T21:30:50.500Z"
   },
   {
    "duration": 361,
    "start_time": "2022-02-09T21:31:03.487Z"
   },
   {
    "duration": 671,
    "start_time": "2022-02-09T21:31:39.311Z"
   },
   {
    "duration": 642,
    "start_time": "2022-02-09T21:31:43.892Z"
   },
   {
    "duration": 367,
    "start_time": "2022-02-09T21:31:51.506Z"
   },
   {
    "duration": 359,
    "start_time": "2022-02-09T21:31:59.223Z"
   },
   {
    "duration": 378,
    "start_time": "2022-02-09T21:32:03.103Z"
   },
   {
    "duration": 370,
    "start_time": "2022-02-09T21:32:31.817Z"
   },
   {
    "duration": 484,
    "start_time": "2022-02-09T21:32:34.701Z"
   },
   {
    "duration": 396,
    "start_time": "2022-02-09T21:33:07.928Z"
   },
   {
    "duration": 366,
    "start_time": "2022-02-09T21:33:12.108Z"
   },
   {
    "duration": 5,
    "start_time": "2022-02-09T21:43:55.186Z"
   },
   {
    "duration": 12434,
    "start_time": "2022-02-10T12:41:20.478Z"
   },
   {
    "duration": 289,
    "start_time": "2022-02-10T12:41:32.914Z"
   },
   {
    "duration": 12,
    "start_time": "2022-02-10T12:41:33.205Z"
   },
   {
    "duration": 22,
    "start_time": "2022-02-10T12:41:33.219Z"
   },
   {
    "duration": 5,
    "start_time": "2022-02-10T12:41:33.242Z"
   },
   {
    "duration": 6,
    "start_time": "2022-02-10T12:41:33.249Z"
   },
   {
    "duration": 6,
    "start_time": "2022-02-10T12:41:33.256Z"
   },
   {
    "duration": 17,
    "start_time": "2022-02-10T12:41:33.264Z"
   },
   {
    "duration": 5,
    "start_time": "2022-02-10T12:41:33.282Z"
   },
   {
    "duration": 9,
    "start_time": "2022-02-10T12:41:33.289Z"
   },
   {
    "duration": 517,
    "start_time": "2022-02-10T12:41:33.300Z"
   },
   {
    "duration": 16,
    "start_time": "2022-02-10T12:41:33.819Z"
   },
   {
    "duration": 3,
    "start_time": "2022-02-10T12:41:33.837Z"
   },
   {
    "duration": 13,
    "start_time": "2022-02-10T12:41:33.842Z"
   },
   {
    "duration": 17,
    "start_time": "2022-02-10T12:41:33.856Z"
   },
   {
    "duration": 9,
    "start_time": "2022-02-10T12:41:33.875Z"
   },
   {
    "duration": 8,
    "start_time": "2022-02-10T12:41:33.885Z"
   },
   {
    "duration": 36,
    "start_time": "2022-02-10T12:41:33.895Z"
   },
   {
    "duration": 183,
    "start_time": "2022-02-10T12:41:33.933Z"
   },
   {
    "duration": 12,
    "start_time": "2022-02-10T12:41:34.118Z"
   },
   {
    "duration": 241,
    "start_time": "2022-02-10T12:41:34.131Z"
   },
   {
    "duration": 10,
    "start_time": "2022-02-10T12:41:34.373Z"
   },
   {
    "duration": 466,
    "start_time": "2022-02-10T12:41:34.386Z"
   },
   {
    "duration": 21,
    "start_time": "2022-02-10T12:41:34.854Z"
   },
   {
    "duration": 19,
    "start_time": "2022-02-10T12:41:34.877Z"
   },
   {
    "duration": 332,
    "start_time": "2022-02-10T12:41:34.897Z"
   },
   {
    "duration": 9,
    "start_time": "2022-02-10T12:41:35.231Z"
   },
   {
    "duration": 431,
    "start_time": "2022-02-10T12:41:35.242Z"
   },
   {
    "duration": 3,
    "start_time": "2022-02-10T12:41:35.675Z"
   },
   {
    "duration": 1254,
    "start_time": "2022-02-10T12:41:35.679Z"
   },
   {
    "duration": 11,
    "start_time": "2022-02-10T12:41:36.934Z"
   },
   {
    "duration": 8,
    "start_time": "2022-02-10T12:41:36.946Z"
   },
   {
    "duration": 11,
    "start_time": "2022-02-10T12:41:36.955Z"
   },
   {
    "duration": 1340,
    "start_time": "2022-02-10T12:41:36.967Z"
   },
   {
    "duration": 76,
    "start_time": "2022-02-10T12:41:38.308Z"
   },
   {
    "duration": 531,
    "start_time": "2022-02-10T12:41:38.385Z"
   },
   {
    "duration": 5,
    "start_time": "2022-02-10T12:41:38.918Z"
   },
   {
    "duration": 14,
    "start_time": "2022-02-10T12:41:38.927Z"
   },
   {
    "duration": 416,
    "start_time": "2022-02-10T12:41:38.942Z"
   },
   {
    "duration": -532,
    "start_time": "2022-02-10T12:41:39.892Z"
   },
   {
    "duration": -540,
    "start_time": "2022-02-10T12:41:39.900Z"
   },
   {
    "duration": -544,
    "start_time": "2022-02-10T12:41:39.905Z"
   },
   {
    "duration": -551,
    "start_time": "2022-02-10T12:41:39.913Z"
   },
   {
    "duration": -558,
    "start_time": "2022-02-10T12:41:39.921Z"
   },
   {
    "duration": -562,
    "start_time": "2022-02-10T12:41:39.926Z"
   },
   {
    "duration": -567,
    "start_time": "2022-02-10T12:41:39.931Z"
   },
   {
    "duration": -572,
    "start_time": "2022-02-10T12:41:39.937Z"
   },
   {
    "duration": -577,
    "start_time": "2022-02-10T12:41:39.943Z"
   },
   {
    "duration": -585,
    "start_time": "2022-02-10T12:41:39.952Z"
   },
   {
    "duration": -589,
    "start_time": "2022-02-10T12:41:39.957Z"
   },
   {
    "duration": 101,
    "start_time": "2022-02-10T12:43:10.083Z"
   },
   {
    "duration": 7143,
    "start_time": "2022-02-10T12:43:14.691Z"
   },
   {
    "duration": 6342,
    "start_time": "2022-02-10T12:43:29.452Z"
   },
   {
    "duration": 236,
    "start_time": "2022-02-10T12:43:35.796Z"
   },
   {
    "duration": 9,
    "start_time": "2022-02-10T12:43:36.033Z"
   },
   {
    "duration": 24,
    "start_time": "2022-02-10T12:43:36.043Z"
   },
   {
    "duration": 6,
    "start_time": "2022-02-10T12:43:36.068Z"
   },
   {
    "duration": 7,
    "start_time": "2022-02-10T12:43:36.075Z"
   },
   {
    "duration": 4,
    "start_time": "2022-02-10T12:43:36.083Z"
   },
   {
    "duration": 41,
    "start_time": "2022-02-10T12:43:36.090Z"
   },
   {
    "duration": 5,
    "start_time": "2022-02-10T12:43:36.133Z"
   },
   {
    "duration": 9,
    "start_time": "2022-02-10T12:43:36.140Z"
   },
   {
    "duration": 12,
    "start_time": "2022-02-10T12:43:36.151Z"
   },
   {
    "duration": 14,
    "start_time": "2022-02-10T12:43:36.164Z"
   },
   {
    "duration": 3,
    "start_time": "2022-02-10T12:43:36.180Z"
   },
   {
    "duration": 7,
    "start_time": "2022-02-10T12:43:36.185Z"
   },
   {
    "duration": 47,
    "start_time": "2022-02-10T12:43:36.193Z"
   },
   {
    "duration": 8,
    "start_time": "2022-02-10T12:43:36.241Z"
   },
   {
    "duration": 7,
    "start_time": "2022-02-10T12:43:36.251Z"
   },
   {
    "duration": 12,
    "start_time": "2022-02-10T12:43:36.260Z"
   },
   {
    "duration": 197,
    "start_time": "2022-02-10T12:43:36.273Z"
   },
   {
    "duration": 9,
    "start_time": "2022-02-10T12:43:36.471Z"
   },
   {
    "duration": 247,
    "start_time": "2022-02-10T12:43:36.481Z"
   },
   {
    "duration": 11,
    "start_time": "2022-02-10T12:43:36.730Z"
   },
   {
    "duration": 401,
    "start_time": "2022-02-10T12:43:36.744Z"
   },
   {
    "duration": 11,
    "start_time": "2022-02-10T12:43:37.146Z"
   },
   {
    "duration": 15,
    "start_time": "2022-02-10T12:43:37.158Z"
   },
   {
    "duration": 269,
    "start_time": "2022-02-10T12:43:37.175Z"
   },
   {
    "duration": 8,
    "start_time": "2022-02-10T12:43:37.446Z"
   },
   {
    "duration": 409,
    "start_time": "2022-02-10T12:43:37.455Z"
   },
   {
    "duration": 3,
    "start_time": "2022-02-10T12:43:37.866Z"
   },
   {
    "duration": 1253,
    "start_time": "2022-02-10T12:43:37.870Z"
   },
   {
    "duration": 11,
    "start_time": "2022-02-10T12:43:39.124Z"
   },
   {
    "duration": 4,
    "start_time": "2022-02-10T12:43:39.136Z"
   },
   {
    "duration": 4,
    "start_time": "2022-02-10T12:43:39.141Z"
   },
   {
    "duration": 1265,
    "start_time": "2022-02-10T12:43:39.146Z"
   },
   {
    "duration": 19,
    "start_time": "2022-02-10T12:43:40.413Z"
   },
   {
    "duration": 485,
    "start_time": "2022-02-10T12:43:40.433Z"
   },
   {
    "duration": 10,
    "start_time": "2022-02-10T12:43:40.919Z"
   },
   {
    "duration": 12,
    "start_time": "2022-02-10T12:43:40.931Z"
   },
   {
    "duration": 320,
    "start_time": "2022-02-10T12:43:40.944Z"
   },
   {
    "duration": -637,
    "start_time": "2022-02-10T12:43:41.902Z"
   },
   {
    "duration": -642,
    "start_time": "2022-02-10T12:43:41.908Z"
   },
   {
    "duration": -651,
    "start_time": "2022-02-10T12:43:41.918Z"
   },
   {
    "duration": -659,
    "start_time": "2022-02-10T12:43:41.927Z"
   },
   {
    "duration": -739,
    "start_time": "2022-02-10T12:43:42.008Z"
   },
   {
    "duration": -748,
    "start_time": "2022-02-10T12:43:42.018Z"
   },
   {
    "duration": -758,
    "start_time": "2022-02-10T12:43:42.028Z"
   },
   {
    "duration": -766,
    "start_time": "2022-02-10T12:43:42.037Z"
   },
   {
    "duration": -774,
    "start_time": "2022-02-10T12:43:42.046Z"
   },
   {
    "duration": -782,
    "start_time": "2022-02-10T12:43:42.055Z"
   },
   {
    "duration": -789,
    "start_time": "2022-02-10T12:43:42.062Z"
   },
   {
    "duration": 8361,
    "start_time": "2022-02-10T12:44:35.839Z"
   },
   {
    "duration": 147,
    "start_time": "2022-02-10T12:44:44.202Z"
   },
   {
    "duration": 12,
    "start_time": "2022-02-10T12:44:44.351Z"
   },
   {
    "duration": 12,
    "start_time": "2022-02-10T12:44:44.365Z"
   },
   {
    "duration": 7,
    "start_time": "2022-02-10T12:44:44.378Z"
   },
   {
    "duration": 8,
    "start_time": "2022-02-10T12:44:44.386Z"
   },
   {
    "duration": 5,
    "start_time": "2022-02-10T12:44:44.395Z"
   },
   {
    "duration": 27,
    "start_time": "2022-02-10T12:44:44.402Z"
   },
   {
    "duration": 6,
    "start_time": "2022-02-10T12:44:44.431Z"
   },
   {
    "duration": 10,
    "start_time": "2022-02-10T12:44:44.438Z"
   },
   {
    "duration": 483,
    "start_time": "2022-02-10T12:44:44.449Z"
   },
   {
    "duration": 14,
    "start_time": "2022-02-10T12:44:44.933Z"
   },
   {
    "duration": 3,
    "start_time": "2022-02-10T12:44:44.949Z"
   },
   {
    "duration": 13,
    "start_time": "2022-02-10T12:44:44.953Z"
   },
   {
    "duration": 16,
    "start_time": "2022-02-10T12:44:44.968Z"
   },
   {
    "duration": 43,
    "start_time": "2022-02-10T12:44:44.985Z"
   },
   {
    "duration": 9,
    "start_time": "2022-02-10T12:44:45.030Z"
   },
   {
    "duration": 19,
    "start_time": "2022-02-10T12:44:45.040Z"
   },
   {
    "duration": 188,
    "start_time": "2022-02-10T12:44:45.061Z"
   },
   {
    "duration": 10,
    "start_time": "2022-02-10T12:44:45.251Z"
   },
   {
    "duration": 249,
    "start_time": "2022-02-10T12:44:45.263Z"
   },
   {
    "duration": 16,
    "start_time": "2022-02-10T12:44:45.514Z"
   },
   {
    "duration": 481,
    "start_time": "2022-02-10T12:44:45.533Z"
   },
   {
    "duration": 15,
    "start_time": "2022-02-10T12:44:46.016Z"
   },
   {
    "duration": 12,
    "start_time": "2022-02-10T12:44:46.033Z"
   },
   {
    "duration": 368,
    "start_time": "2022-02-10T12:44:46.047Z"
   },
   {
    "duration": 17,
    "start_time": "2022-02-10T12:44:46.416Z"
   },
   {
    "duration": 462,
    "start_time": "2022-02-10T12:44:46.434Z"
   },
   {
    "duration": 4,
    "start_time": "2022-02-10T12:44:46.898Z"
   },
   {
    "duration": 1272,
    "start_time": "2022-02-10T12:44:46.903Z"
   },
   {
    "duration": 11,
    "start_time": "2022-02-10T12:44:48.177Z"
   },
   {
    "duration": 8,
    "start_time": "2022-02-10T12:44:48.189Z"
   },
   {
    "duration": 5,
    "start_time": "2022-02-10T12:44:48.198Z"
   },
   {
    "duration": 1504,
    "start_time": "2022-02-10T12:44:48.205Z"
   },
   {
    "duration": 20,
    "start_time": "2022-02-10T12:44:49.711Z"
   },
   {
    "duration": 543,
    "start_time": "2022-02-10T12:44:49.733Z"
   },
   {
    "duration": 5,
    "start_time": "2022-02-10T12:44:50.277Z"
   },
   {
    "duration": 11,
    "start_time": "2022-02-10T12:44:50.284Z"
   },
   {
    "duration": 258,
    "start_time": "2022-02-10T12:44:50.296Z"
   },
   {
    "duration": 3,
    "start_time": "2022-02-10T12:44:50.556Z"
   },
   {
    "duration": 5,
    "start_time": "2022-02-10T12:44:50.561Z"
   },
   {
    "duration": 11,
    "start_time": "2022-02-10T12:44:50.568Z"
   },
   {
    "duration": 217,
    "start_time": "2022-02-10T12:44:50.580Z"
   },
   {
    "duration": 3,
    "start_time": "2022-02-10T12:44:50.799Z"
   },
   {
    "duration": 8,
    "start_time": "2022-02-10T12:44:50.804Z"
   },
   {
    "duration": 24,
    "start_time": "2022-02-10T12:44:50.814Z"
   },
   {
    "duration": 205,
    "start_time": "2022-02-10T12:44:50.840Z"
   },
   {
    "duration": 4,
    "start_time": "2022-02-10T12:44:51.046Z"
   },
   {
    "duration": 11,
    "start_time": "2022-02-10T12:44:51.051Z"
   },
   {
    "duration": 18,
    "start_time": "2022-02-10T12:44:51.063Z"
   },
   {
    "duration": 25004,
    "start_time": "2022-02-10T14:27:32.017Z"
   },
   {
    "duration": 233,
    "start_time": "2022-02-10T14:27:57.024Z"
   },
   {
    "duration": 21,
    "start_time": "2022-02-10T14:27:57.261Z"
   },
   {
    "duration": 52,
    "start_time": "2022-02-10T14:27:57.285Z"
   },
   {
    "duration": 18,
    "start_time": "2022-02-10T14:27:57.339Z"
   },
   {
    "duration": 11,
    "start_time": "2022-02-10T14:27:57.359Z"
   },
   {
    "duration": 11,
    "start_time": "2022-02-10T14:27:57.373Z"
   },
   {
    "duration": 30,
    "start_time": "2022-02-10T14:27:57.388Z"
   },
   {
    "duration": 10,
    "start_time": "2022-02-10T14:27:57.449Z"
   },
   {
    "duration": 17,
    "start_time": "2022-02-10T14:27:57.462Z"
   },
   {
    "duration": 1053,
    "start_time": "2022-02-10T14:27:57.482Z"
   },
   {
    "duration": 27,
    "start_time": "2022-02-10T14:27:58.538Z"
   },
   {
    "duration": 5,
    "start_time": "2022-02-10T14:27:58.567Z"
   },
   {
    "duration": 18,
    "start_time": "2022-02-10T14:27:58.575Z"
   },
   {
    "duration": 55,
    "start_time": "2022-02-10T14:27:58.595Z"
   },
   {
    "duration": 18,
    "start_time": "2022-02-10T14:27:58.653Z"
   },
   {
    "duration": 15,
    "start_time": "2022-02-10T14:27:58.674Z"
   },
   {
    "duration": 20,
    "start_time": "2022-02-10T14:27:58.691Z"
   },
   {
    "duration": 359,
    "start_time": "2022-02-10T14:27:58.714Z"
   },
   {
    "duration": 13,
    "start_time": "2022-02-10T14:27:59.076Z"
   },
   {
    "duration": 443,
    "start_time": "2022-02-10T14:27:59.092Z"
   },
   {
    "duration": 24,
    "start_time": "2022-02-10T14:27:59.537Z"
   },
   {
    "duration": 746,
    "start_time": "2022-02-10T14:27:59.567Z"
   },
   {
    "duration": 18,
    "start_time": "2022-02-10T14:28:00.317Z"
   },
   {
    "duration": 29,
    "start_time": "2022-02-10T14:28:00.349Z"
   },
   {
    "duration": 471,
    "start_time": "2022-02-10T14:28:00.381Z"
   },
   {
    "duration": 15,
    "start_time": "2022-02-10T14:28:00.855Z"
   },
   {
    "duration": 804,
    "start_time": "2022-02-10T14:28:00.873Z"
   },
   {
    "duration": 5,
    "start_time": "2022-02-10T14:28:01.679Z"
   },
   {
    "duration": 2532,
    "start_time": "2022-02-10T14:28:01.686Z"
   },
   {
    "duration": 35,
    "start_time": "2022-02-10T14:28:04.221Z"
   },
   {
    "duration": 7,
    "start_time": "2022-02-10T14:28:04.259Z"
   },
   {
    "duration": 8,
    "start_time": "2022-02-10T14:28:04.269Z"
   },
   {
    "duration": 2372,
    "start_time": "2022-02-10T14:28:04.280Z"
   },
   {
    "duration": 16,
    "start_time": "2022-02-10T14:28:06.655Z"
   },
   {
    "duration": 919,
    "start_time": "2022-02-10T14:28:06.674Z"
   },
   {
    "duration": 10,
    "start_time": "2022-02-10T14:28:07.595Z"
   },
   {
    "duration": 21,
    "start_time": "2022-02-10T14:28:07.608Z"
   },
   {
    "duration": 565,
    "start_time": "2022-02-10T14:28:07.649Z"
   },
   {
    "duration": 6,
    "start_time": "2022-02-10T14:28:08.217Z"
   },
   {
    "duration": 25,
    "start_time": "2022-02-10T14:28:08.225Z"
   },
   {
    "duration": 26,
    "start_time": "2022-02-10T14:28:08.252Z"
   },
   {
    "duration": 378,
    "start_time": "2022-02-10T14:28:08.280Z"
   },
   {
    "duration": 6,
    "start_time": "2022-02-10T14:28:08.661Z"
   },
   {
    "duration": 8,
    "start_time": "2022-02-10T14:28:08.669Z"
   },
   {
    "duration": 23,
    "start_time": "2022-02-10T14:28:08.680Z"
   },
   {
    "duration": 406,
    "start_time": "2022-02-10T14:28:08.706Z"
   },
   {
    "duration": 6,
    "start_time": "2022-02-10T14:28:09.115Z"
   },
   {
    "duration": 34,
    "start_time": "2022-02-10T14:28:09.124Z"
   },
   {
    "duration": 12,
    "start_time": "2022-02-10T14:28:09.161Z"
   }
  ],
  "kernelspec": {
   "display_name": "Python 3 (ipykernel)",
   "language": "python",
   "name": "python3"
  },
  "language_info": {
   "codemirror_mode": {
    "name": "ipython",
    "version": 3
   },
   "file_extension": ".py",
   "mimetype": "text/x-python",
   "name": "python",
   "nbconvert_exporter": "python",
   "pygments_lexer": "ipython3",
   "version": "3.9.7"
  },
  "toc": {
   "base_numbering": 1,
   "nav_menu": {},
   "number_sections": true,
   "sideBar": true,
   "skip_h1_title": true,
   "title_cell": "Table of Contents",
   "title_sidebar": "Contents",
   "toc_cell": false,
   "toc_position": {},
   "toc_section_display": true,
   "toc_window_display": false
  }
 },
 "nbformat": 4,
 "nbformat_minor": 5
}
